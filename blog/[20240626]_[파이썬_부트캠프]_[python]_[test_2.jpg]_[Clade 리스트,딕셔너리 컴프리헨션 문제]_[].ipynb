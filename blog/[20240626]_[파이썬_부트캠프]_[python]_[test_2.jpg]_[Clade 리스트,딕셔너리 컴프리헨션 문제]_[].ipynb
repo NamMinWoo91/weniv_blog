{
  "nbformat": 4,
  "nbformat_minor": 0,
  "metadata": {
    "colab": {
      "provenance": []
    },
    "kernelspec": {
      "name": "python3",
      "display_name": "Python 3"
    },
    "language_info": {
      "name": "python"
    }
  },
  "cells": [
    {
      "cell_type": "markdown",
      "source": [
        "for 문의 comprehension(리스트 컴프리헨션)은 파이썬에서 리스트를 생성하는 간결하고 효율적인 방법입니다. 기본 구조를 설명하고 예제를 통해 이해를 돕겠습니다.\n",
        "\n",
        "기본 구조:\n",
        "```python\n",
        "[표현식 for 항목 in 반복가능객체 if 조건문]\n",
        "```\n",
        "\n",
        "1. 표현식: 각 항목에 적용할 연산\n",
        "2. for 항목 in 반복가능객체: 반복할 대상\n",
        "3. if 조건문: 선택적으로 사용하는 필터링 조건\n",
        "\n",
        "예제 1: 1부터 10까지의 제곱 리스트 만들기\n",
        "```python\n",
        "squares = [x**2 for x in range(1, 11)]\n",
        "print(squares)  # [1, 4, 9, 16, 25, 36, 49, 64, 81, 100]\n",
        "```\n",
        "\n",
        "예제 2: 짝수만 선택하여 제곱하기\n",
        "```python\n",
        "even_squares = [x**2 for x in range(1, 11) if x % 2 == 0]\n",
        "print(even_squares)  # [4, 16, 36, 64, 100]\n",
        "```\n",
        "\n",
        "연습 문제:\n",
        "1. 1부터 20까지의 숫자 중 3의 배수만 포함하는 리스트를 만드세요.\n",
        "2. 주어진 문자열 \"Hello, World!\"에서 모음(a, e, i, o, u)만 추출하여 리스트로 만드세요. (대소문자 구분 없이)\n",
        "\n",
        "이 설명과 예제가 도움이 되었나요? 연습 문제를 풀어보시고, 추가 질문이 있다면 언제든 물어보세요."
      ],
      "metadata": {
        "id": "NBVDSyF6f283"
      }
    },
    {
      "cell_type": "code",
      "source": [
        "# 연습문제 1\n",
        "\n",
        "# 내답안 3의 배수만 적고 조건을 명확히 하지않아 틀린문제\n",
        "list_1 = [i*3 for i in range(1,20)]\n",
        "print(list_1)\n",
        "\n",
        "# 수정 답안\n",
        "list_1 = [i for i in range(1, 21) if i % 3 == 0]\n",
        "print(list_1)"
      ],
      "metadata": {
        "colab": {
          "base_uri": "https://localhost:8080/"
        },
        "id": "1QxsyrQMf4lu",
        "outputId": "38e06348-fcce-4574-be9b-2df7bae5cdff"
      },
      "execution_count": null,
      "outputs": [
        {
          "output_type": "stream",
          "name": "stdout",
          "text": [
            "[3, 6, 9, 12, 15, 18, 21, 24, 27, 30, 33, 36, 39, 42, 45, 48, 51, 54, 57]\n",
            "[3, 6, 9, 12, 15, 18]\n"
          ]
        }
      ]
    },
    {
      "cell_type": "code",
      "source": [
        "# 연습문제 2 못풀었음\n",
        "string = \"Hello,World\"\n",
        "\n",
        "list_2 = [i for i in string if ()]"
      ],
      "metadata": {
        "id": "LzmGQV8Egugf"
      },
      "execution_count": null,
      "outputs": []
    },
    {
      "cell_type": "code",
      "source": [
        "# 연습문제 2번의 답\n",
        "text = \"Hello, World!\"\n",
        "vowels = [char for char in text.lower() if char in 'aeiou']\n",
        "print(vowels)\n",
        "\n",
        "'''\n",
        "text = \"Hello, World!\":\n",
        "\n",
        "처리할 문자열을 변수에 저장합니다.\n",
        "\n",
        "\n",
        "text.lower():\n",
        "\n",
        "문자열을 모두 소문자로 변환합니다.\n",
        "예: \"Hello, World!\" → \"hello, world!\"\n",
        "이렇게 하면 대문자 'A', 'E', 'I', 'O', 'U'도 처리할 수 있습니다.\n",
        "\n",
        "\n",
        "for char in text.lower():\n",
        "\n",
        "변환된 소문자 문자열의 각 문자를 순회합니다.\n",
        "'h', 'e', 'l', 'l', 'o', ',', ' ', 'w', 'o', 'r', 'l', 'd', '!' 순서로 처리됩니다.\n",
        "\n",
        "\n",
        "if char in 'aeiou':\n",
        "\n",
        "각 문자가 모음인지 확인합니다.\n",
        "'aeiou' 문자열에 포함되어 있는지 검사합니다.\n",
        "예: 'e'는 포함되어 있으므로 True, 'h'는 포함되어 있지 않으므로 False\n",
        "\n",
        "\n",
        "리스트 컴프리헨션:\n",
        "\n",
        "조건을 만족하는 문자만 새 리스트에 추가합니다.\n",
        "'e'와 'o'만 조건을 만족하므로 이들만 리스트에 포함됩니다.\n",
        "\n",
        "\n",
        "print(vowels):\n",
        "\n",
        "최종 결과 리스트를 출력합니다.\n",
        "출력: ['e', 'o', 'o']\n",
        "\n",
        "\n",
        "\n",
        "이 방식의 장점:\n",
        "\n",
        "간결한 코드로 복잡한 작업을 수행할 수 있습니다.\n",
        "대소문자 구분 없이 모음을 추출할 수 있습니다.\n",
        "원본 문자열의 순서를 유지하면서 모음을 추출합니다.\n",
        "\n",
        "이해를 돕기 위해 같은 작업을 전통적인 for 루프로 작성하면 다음과 같습니다:\n",
        "'''"
      ],
      "metadata": {
        "id": "x-fz2ikTkleu"
      },
      "execution_count": null,
      "outputs": []
    },
    {
      "cell_type": "code",
      "source": [
        "# 문제: 1부터 50까지의 숫자 중에서 3의 배수이거나 5의 배수인 숫자들의 제곱을 포함하는 리스트를 만드세요.\n",
        "\n",
        "\n",
        "# 1부터 50까지의 숫자를 생성해야 합니다.\n",
        "# 각 숫자가 3의 배수이거나 5의 배수인지 확인해야 합니다.\n",
        "# 조건을 만족하는 숫자들의 제곱을 계산해야 합니다.\n",
        "num = [i**2 for i in range(1,51) if i % 3 == 0 or i % 5 == 0]\n",
        "\n",
        "print(num)\n",
        "# 표현식: i**2 (숫자의 제곱)\n",
        "# 변수: i\n",
        "# 반복가능개체 (이터러블): range(1, 51)\n",
        "# 조건: i % 3 == 0 or i % 5 == 0"
      ],
      "metadata": {
        "colab": {
          "base_uri": "https://localhost:8080/"
        },
        "id": "ZY_t-35dlNeE",
        "outputId": "07f9679a-3d1e-474d-ab13-52d08da57329"
      },
      "execution_count": null,
      "outputs": [
        {
          "output_type": "stream",
          "name": "stdout",
          "text": [
            "[9, 25, 36, 81, 100, 144, 225, 324, 400, 441, 576, 625, 729, 900, 1089, 1225, 1296, 1521, 1600, 1764, 2025, 2304, 2500]\n"
          ]
        }
      ]
    },
    {
      "cell_type": "code",
      "source": [
        "#문제: 주어진 문자열 \"Python is awesome!\"에서 각 단어의 첫 글자만 대문자로 변환하여 리스트로 만드세요.\n",
        "\n",
        "#힌트:\n",
        "\n",
        "#문자열을 단어로 분리해야 합니다.\n",
        "#각 단어의 첫 글자를 대문자로 만들어야 합니다. .title 함수 사용\n",
        "#리스트 컴프리헨션을 사용하여 이 과정을 수행합니다.\n",
        "\n",
        "'''\n",
        "나의답안\n",
        "word =\"Python is awesome!\"\n",
        "word2 = word.split(\" \")\n",
        "\n",
        "string = [i for i in word2 if > 3 word2.tilte() ]\n",
        "'''\n",
        "\n",
        "\n",
        "\n",
        "word = \"Python is awesome!\"\n",
        "word2 = word.split(\" \")\n",
        "string = [i.capitalize() for i in word2]\n",
        "print(string)\n",
        "\n"
      ],
      "metadata": {
        "colab": {
          "base_uri": "https://localhost:8080/"
        },
        "id": "IzjE-phznlJe",
        "outputId": "61619add-0a4c-4dd3-da0b-c33da9b8368a"
      },
      "execution_count": null,
      "outputs": [
        {
          "output_type": "stream",
          "name": "stdout",
          "text": [
            "['Python', 'Is', 'Awesome!']\n"
          ]
        }
      ]
    },
    {
      "cell_type": "code",
      "source": [
        "\n",
        "# 나의답안\n",
        "word =\"Python is awesome!\"\n",
        "word2 = word.split(\" \")\n",
        "\n",
        "string = [i.tilte() for i in word2 ]\n",
        "print(string)"
      ],
      "metadata": {
        "colab": {
          "base_uri": "https://localhost:8080/",
          "height": 305
        },
        "id": "R4KGnXXwpo53",
        "outputId": "7aa02e94-e369-4e14-99fe-9deadab5c682"
      },
      "execution_count": null,
      "outputs": [
        {
          "output_type": "error",
          "ename": "AttributeError",
          "evalue": "'str' object has no attribute 'tilte'",
          "traceback": [
            "\u001b[0;31m---------------------------------------------------------------------------\u001b[0m",
            "\u001b[0;31mAttributeError\u001b[0m                            Traceback (most recent call last)",
            "\u001b[0;32m<ipython-input-25-b77d8221769e>\u001b[0m in \u001b[0;36m<cell line: 5>\u001b[0;34m()\u001b[0m\n\u001b[1;32m      3\u001b[0m \u001b[0mword2\u001b[0m \u001b[0;34m=\u001b[0m \u001b[0mword\u001b[0m\u001b[0;34m.\u001b[0m\u001b[0msplit\u001b[0m\u001b[0;34m(\u001b[0m\u001b[0;34m\" \"\u001b[0m\u001b[0;34m)\u001b[0m\u001b[0;34m\u001b[0m\u001b[0;34m\u001b[0m\u001b[0m\n\u001b[1;32m      4\u001b[0m \u001b[0;34m\u001b[0m\u001b[0m\n\u001b[0;32m----> 5\u001b[0;31m \u001b[0mstring\u001b[0m \u001b[0;34m=\u001b[0m \u001b[0;34m[\u001b[0m\u001b[0mi\u001b[0m\u001b[0;34m.\u001b[0m\u001b[0mtilte\u001b[0m\u001b[0;34m(\u001b[0m\u001b[0;34m)\u001b[0m \u001b[0;32mfor\u001b[0m \u001b[0mi\u001b[0m \u001b[0;32min\u001b[0m \u001b[0mword2\u001b[0m \u001b[0;34m]\u001b[0m\u001b[0;34m\u001b[0m\u001b[0;34m\u001b[0m\u001b[0m\n\u001b[0m\u001b[1;32m      6\u001b[0m \u001b[0mprint\u001b[0m\u001b[0;34m(\u001b[0m\u001b[0mstring\u001b[0m\u001b[0;34m)\u001b[0m\u001b[0;34m\u001b[0m\u001b[0;34m\u001b[0m\u001b[0m\n",
            "\u001b[0;32m<ipython-input-25-b77d8221769e>\u001b[0m in \u001b[0;36m<listcomp>\u001b[0;34m(.0)\u001b[0m\n\u001b[1;32m      3\u001b[0m \u001b[0mword2\u001b[0m \u001b[0;34m=\u001b[0m \u001b[0mword\u001b[0m\u001b[0;34m.\u001b[0m\u001b[0msplit\u001b[0m\u001b[0;34m(\u001b[0m\u001b[0;34m\" \"\u001b[0m\u001b[0;34m)\u001b[0m\u001b[0;34m\u001b[0m\u001b[0;34m\u001b[0m\u001b[0m\n\u001b[1;32m      4\u001b[0m \u001b[0;34m\u001b[0m\u001b[0m\n\u001b[0;32m----> 5\u001b[0;31m \u001b[0mstring\u001b[0m \u001b[0;34m=\u001b[0m \u001b[0;34m[\u001b[0m\u001b[0mi\u001b[0m\u001b[0;34m.\u001b[0m\u001b[0mtilte\u001b[0m\u001b[0;34m(\u001b[0m\u001b[0;34m)\u001b[0m \u001b[0;32mfor\u001b[0m \u001b[0mi\u001b[0m \u001b[0;32min\u001b[0m \u001b[0mword2\u001b[0m \u001b[0;34m]\u001b[0m\u001b[0;34m\u001b[0m\u001b[0;34m\u001b[0m\u001b[0m\n\u001b[0m\u001b[1;32m      6\u001b[0m \u001b[0mprint\u001b[0m\u001b[0;34m(\u001b[0m\u001b[0mstring\u001b[0m\u001b[0;34m)\u001b[0m\u001b[0;34m\u001b[0m\u001b[0;34m\u001b[0m\u001b[0m\n",
            "\u001b[0;31mAttributeError\u001b[0m: 'str' object has no attribute 'tilte'"
          ]
        }
      ]
    },
    {
      "cell_type": "markdown",
      "source": [
        "문제: 1부터 20까지의 숫자 중에서 다음 조건을 만족하는 숫자들의 리스트를 만드세요.\n",
        "\n",
        "짝수이면 그 숫자의 제곱을 리스트에 포함\n",
        "홀수이면서 3의 배수이면 그 숫자에 10을 더한 값을 리스트에 포함\n",
        "그 외의 숫자는 그대로 리스트에 포함\n",
        "\n",
        "힌트:\n",
        "\n",
        "1부터 20까지의 숫자를 생성해야 합니다.\n",
        "각 숫자에 대해 조건을 확인해야 합니다.\n",
        "조건에 따라 다른 연산을 수행해야 합니다.\n",
        "리스트 컴프리헨션 내에서 조건문을 사용할 수 있습니다."
      ],
      "metadata": {
        "id": "Bcs7ghYctLcg"
      }
    },
    {
      "cell_type": "code",
      "source": [
        "# list_1 = [ if i % 2 == 0 else i % 3 == 0 i for i in range(1,21)  ]\n",
        "list_2 =[i**2 if i % 2 == 0 else (i+10 if i % 3 == 0 else i) for i in range(1, 21)]\n",
        "print(list_2)\n"
      ],
      "metadata": {
        "colab": {
          "base_uri": "https://localhost:8080/"
        },
        "id": "6cSRiyibtNVb",
        "outputId": "8d1a0b13-2e33-41df-914c-7d19daa23dd6"
      },
      "execution_count": null,
      "outputs": [
        {
          "output_type": "stream",
          "name": "stdout",
          "text": [
            "[1, 4, 13, 16, 5, 36, 7, 64, 19, 100, 11, 144, 13, 196, 25, 256, 17, 324, 19, 400]\n"
          ]
        }
      ]
    },
    {
      "cell_type": "markdown",
      "source": [
        "문제: 1부터 20까지의 숫자 중에서 짝수만 포함하는 리스트를 만드세요.\n",
        "이 문제는 리스트 컴프리헨션의 기본적인 사용법을 연습하기에 좋습니다. 다음과 같은 단계로 접근할 수 있습니다:\n",
        "\n",
        "1부터 20까지의 숫자를 생성합니다.\n",
        "각 숫자가 짝수인지 확인합니다.\n",
        "짝수만 새 리스트에 포함시킵니다."
      ],
      "metadata": {
        "id": "YuZ7Yebtosyd"
      }
    },
    {
      "cell_type": "code",
      "source": [
        "\n",
        "list3 = [i for i in range(1,21) if i % 2 ==0]\n",
        "\n",
        "print(list3)\n",
        "# 1부터 20까지의 숫자를 생성합니다. 각 숫자가 짝수인지 확인합니다. 짝수만 새 리스트에 포함시킵니다."
      ],
      "metadata": {
        "colab": {
          "base_uri": "https://localhost:8080/"
        },
        "id": "cqg2rrMAoxHU",
        "outputId": "5fc0dac2-bc07-4472-d06e-70be01d70162"
      },
      "execution_count": null,
      "outputs": [
        {
          "output_type": "stream",
          "name": "stdout",
          "text": [
            "[2, 4, 6, 8, 10, 12, 14, 16, 18, 20]\n"
          ]
        }
      ]
    },
    {
      "cell_type": "markdown",
      "source": [
        "문제: 다음 문장에서 길이가 3 이상인 단어만 선택하여 대문자로 변환한 리스트를 만드세요.\n",
        "문장: \"The quick brown fox jumps over the lazy dog\"\n",
        "힌트:\n",
        "\n",
        "문장을 단어로 분리해야 합니다.\n",
        "\n",
        "각 단어의 길이를 확인해야 합니다.\n",
        "\n",
        "조건을 만족하는 단어만 대문자로 변환해야 합니다.\n",
        "\n",
        "리스트 컴프리헨션을 사용하여 이 모든 과정을 한 줄로 작성해야 합니다.\n",
        "\n",
        "이 문제를 해결하기 위한 코드를 작성해보세요. 작성 후 답변을 주시면 함께 검토하겠습니다."
      ],
      "metadata": {
        "id": "rnNn5-krsoFy"
      }
    },
    {
      "cell_type": "code",
      "source": [
        "# 내가 진행한 코드 문제\n",
        "sentence = \"The quick brown fox jumps over the lazy dog\"\n",
        "sentence_split = sentence.split(\" \") # 문장을 단어로 분리해야 합니다. 여기까진 정답\n",
        "sentence_split_len = int(len(sentence_split)) # 문자형에서 정수형으로 변경하려고함\n",
        "\n",
        "sentence_2 = [i.capitalize() for i in sentence_split] # 첫째글자만 대문자로 작성, 하려고 했고 또한 3개 이상단어라는 변수가 없음,.\n",
        "\n",
        "print(sentence_2)\n"
      ],
      "metadata": {
        "colab": {
          "base_uri": "https://localhost:8080/"
        },
        "id": "SybGICi2sHi_",
        "outputId": "bc90a611-f694-4c9f-c0d2-8da9d0ea0a65"
      },
      "execution_count": null,
      "outputs": [
        {
          "output_type": "stream",
          "name": "stdout",
          "text": [
            "['The', 'Quick', 'Brown', 'Fox', 'Jumps', 'Over', 'The', 'Lazy', 'Dog']\n"
          ]
        }
      ]
    },
    {
      "cell_type": "code",
      "source": [
        "# 정답\n",
        "\n",
        "sentence = \"The quick brown fox jumps over the lazy dog\"\n",
        "sentence_split = sentence.split(\" \")  # 문장을 단어로 분리합니다.\n",
        "\n",
        "sentence_2 = [word.upper() for word in sentence_split if len(word) >= 3]\n",
        "print(sentence_2)"
      ],
      "metadata": {
        "id": "c64JwB4rsMgp"
      },
      "execution_count": null,
      "outputs": []
    },
    {
      "cell_type": "markdown",
      "source": [
        "문제: 1부터 30까지의 숫자 중에서 다음 조건을 만족하는 숫자들의 리스트를 만드세요.\n",
        "\n",
        "3의 배수이면 \"Fizz\"\n",
        "\n",
        "5의 배수이면 \"Buzz\"\n",
        "\n",
        "3과 5의 공배수이면 \"FizzBuzz\"\n",
        "\n",
        "그 외의 숫자는 그대로 포함"
      ],
      "metadata": {
        "id": "2IKxCg-itOYl"
      }
    },
    {
      "cell_type": "code",
      "source": [
        "list = [i if i % 3 == 0   else (Buzz if  i % 5 == 0 ) else 1 for list range(1,31)] # 도저히 헷갈려서 포기함"
      ],
      "metadata": {
        "colab": {
          "base_uri": "https://localhost:8080/",
          "height": 112
        },
        "id": "dcQwPUrptN68",
        "outputId": "db4bb392-585d-45ab-f3c3-41900d2120d2"
      },
      "execution_count": null,
      "outputs": [
        {
          "output_type": "error",
          "ename": "SyntaxError",
          "evalue": "expected 'else' after 'if' expression (<ipython-input-14-e920f950da77>, line 1)",
          "traceback": [
            "\u001b[0;36m  File \u001b[0;32m\"<ipython-input-14-e920f950da77>\"\u001b[0;36m, line \u001b[0;32m1\u001b[0m\n\u001b[0;31m    list = [Fizz if i % 3 == 0   else (Buzz if  i % 5 == 0 ) else 1 for list range(1,31)]\u001b[0m\n\u001b[0m                                       ^\u001b[0m\n\u001b[0;31mSyntaxError\u001b[0m\u001b[0;31m:\u001b[0m expected 'else' after 'if' expression\n"
          ]
        }
      ]
    },
    {
      "cell_type": "code",
      "source": [
        "result = [\"FizzBuzz\" if i % 15 == 0 else \"Fizz\" if i % 3 == 0 else \"Buzz\" if i % 5 == 0 else i for i in range(1, 31)]\n",
        "print(result)"
      ],
      "metadata": {
        "colab": {
          "base_uri": "https://localhost:8080/"
        },
        "id": "e-UchgcIu7mD",
        "outputId": "ec66a01b-1e25-4bf4-dd37-e48f5d282ff5"
      },
      "execution_count": null,
      "outputs": [
        {
          "output_type": "stream",
          "name": "stdout",
          "text": [
            "[1, 2, 'Fizz', 4, 'Buzz', 'Fizz', 7, 8, 'Fizz', 'Buzz', 11, 'Fizz', 13, 14, 'FizzBuzz', 16, 17, 'Fizz', 19, 'Buzz', 'Fizz', 22, 23, 'Fizz', 'Buzz', 26, 'Fizz', 28, 29, 'FizzBuzz']\n"
          ]
        }
      ]
    },
    {
      "cell_type": "markdown",
      "source": [
        "# 딕셔너리 컴프리핸션문제\n",
        "- 문제: 1부터 5까지의 숫자에 대해, 각 숫자를 키로 하고 그 숫자의 제곱을 값으로 하는 딕셔너리를 만드세요.\n",
        "예상 결과: {1: 1, 2: 4, 3: 9, 4: 16, 5: 25}\n",
        "힌트:\n",
        "\n",
        "- 딕셔너리 컴프리헨션의 기본 구조는 다음과 같습니다:\n",
        "{key: value for item in iterable}\n",
        "- 1부터 5까지의 숫자를 생성해야 합니다.\n",
        "- 각 숫자를 키로, 그 숫자의 제곱을 값으로 사용합니다.\n",
        "\n",
        "[표현식 for 항목 in 반복가능객체 if 조건문]"
      ],
      "metadata": {
        "id": "R2taR0-Ypobj"
      }
    },
    {
      "cell_type": "code",
      "source": [
        "Dict = {x : x**2 for x in range (1,6)}\n",
        "\n",
        "print(Dict)"
      ],
      "metadata": {
        "colab": {
          "base_uri": "https://localhost:8080/"
        },
        "id": "2zRJBFY-wUQD",
        "outputId": "575ebb94-8ec9-4c16-8dce-70f0b3d99e76"
      },
      "execution_count": null,
      "outputs": [
        {
          "output_type": "stream",
          "name": "stdout",
          "text": [
            "{1: 1, 2: 4, 3: 9, 4: 16, 5: 25}\n"
          ]
        }
      ]
    },
    {
      "cell_type": "markdown",
      "source": [
        "##문자열: \"The quick brown fox jumps over the lazy dog\"\n",
        "- 문제: 다음 문자열에 포함된 각 단어를 키로 하고, 그 단어의 길이를 값으로 하는 딕셔너리를 만드세요. 단, 길이가 3 이상인 단어만 포함시키세요\n",
        "-  힌트:\n",
        "  문자열을 단어로 분리해야 합니다.\n",
        "\n",
        "  각 단어의 길이를 계산해야 합니다.\n",
        "\n",
        "  조건(길이가 3 이상)을 확인해야 합니다.\n",
        "  :\n",
        "  딕셔너리 컴프리헨션을 사용하여 이 모든 과정을 한 줄로 작성합니다."
      ],
      "metadata": {
        "id": "YVsdB24Pxz7x"
      }
    },
    {
      "cell_type": "code",
      "source": [
        "string = \"The quick brown fox jumps over the lazy dog\"\n",
        "string2 = string.split(\" \")\n",
        "\n",
        "# 내가쓴 답\n",
        "# Dict_string = {word:len(word) for 생략 생략 string2 if  word >= 3}\n",
        "Dict_string = {word:len(word) for word in string2 if len(word) >= 3}\n",
        "\n",
        "print(Dict_string)"
      ],
      "metadata": {
        "colab": {
          "base_uri": "https://localhost:8080/"
        },
        "id": "Osy2ZEOpx6Fw",
        "outputId": "76009dd3-7cbb-4018-f7cc-3a4b1c47aa72"
      },
      "execution_count": null,
      "outputs": [
        {
          "output_type": "stream",
          "name": "stdout",
          "text": [
            "{'The': 3, 'quick': 5, 'brown': 5, 'fox': 3, 'jumps': 5, 'over': 4, 'the': 3, 'lazy': 4, 'dog': 3}\n"
          ]
        }
      ]
    },
    {
      "cell_type": "markdown",
      "source": [],
      "metadata": {
        "id": "FXG2MtKrx4xY"
      }
    },
    {
      "cell_type": "markdown",
      "source": [
        "문제: 다음 두 개의 리스트가 주어졌을 때, 첫 번째 리스트의 요소를 키로, 두 번째 리스트의 요소를 값으로 하는 딕셔너리를 만드세요. 단, 값이 20 이상인 경우에만 딕셔너리에 포함시키세요"
      ],
      "metadata": {
        "id": "7WvOctEh7eB2"
      }
    },
    {
      "cell_type": "code",
      "source": [
        "fruits = ['apple', 'banana', 'cherry', 'date', 'elderberry']\n",
        "prices = [15, 25, 10, 30, 20]\n",
        "\n",
        "fruits_prices = zip(fruits, prices)\n",
        "\n",
        "print(fruits_prices)\n",
        "\n",
        "\n",
        "fruits = ['apple', 'banana', 'cherry', 'date', 'elderberry']\n",
        "prices = [15, 25, 10, 30, 20]\n",
        "\n",
        "fruits_prices = {fruit: price for fruit, price in zip(fruits, prices) if price >= 20}\n",
        "print(fruits_prices)"
      ],
      "metadata": {
        "colab": {
          "base_uri": "https://localhost:8080/"
        },
        "id": "RaU-3Ojm7faA",
        "outputId": "70913ad5-81de-4823-9f48-7ea6abd4df0d"
      },
      "execution_count": null,
      "outputs": [
        {
          "output_type": "stream",
          "name": "stdout",
          "text": [
            "<zip object at 0x7ef0bc194980>\n"
          ]
        }
      ]
    }
  ]
}