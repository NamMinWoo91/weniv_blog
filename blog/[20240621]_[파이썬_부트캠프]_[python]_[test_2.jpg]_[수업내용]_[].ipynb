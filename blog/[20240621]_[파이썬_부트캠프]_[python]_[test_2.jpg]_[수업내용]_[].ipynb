{
  "nbformat": 4,
  "nbformat_minor": 0,
  "metadata": {
    "colab": {
      "provenance": []
    },
    "kernelspec": {
      "name": "python3",
      "display_name": "Python 3"
    },
    "language_info": {
      "name": "python"
    }
  },
  "cells": [
    {
      "cell_type": "markdown",
      "source": [
        "# OT\n",
        "- clade ai와 다른 ai언어와의 차이\n",
        "- 영국 AI 각본 영화 상영회가 대중 반발\n",
        "- 자습시 AI 모델과 대화하면서 공부하기 해당내용을 정리, 개념에대해서 질문하기"
      ],
      "metadata": {
        "id": "vlGoOFxfI_3L"
      }
    },
    {
      "cell_type": "code",
      "execution_count": null,
      "metadata": {
        "id": "rhzavLX1EEdJ"
      },
      "outputs": [],
      "source": []
    },
    {
      "cell_type": "markdown",
      "source": [
        "# 1.리스트(list) 매우중요\n",
        "- 리스트는 파이썬에서 제공하는 가변적이고 순서가 있는 시퀀스 자료형이다.\n",
        "- 위치 특성을 가져 정렬할수 있고, 가변적이라는 특성때문에 리스트 내 원소들은 생성후에도 변경, 추가, 삭제가 가능하다.\n",
        "- 리스트가 왜 필요한가?\n",
        "김철수=100\n",
        "김은희=100 처럼 변수를 하나하나 정의 했어야함 그것을 쉽게 구현한것이 리스트, 배열이라고도함\n",
        "- 변수명 = [a,b,c]를 사용해 표현\n"
      ],
      "metadata": {
        "id": "zxRKxIZFMb84"
      }
    },
    {
      "cell_type": "code",
      "source": [
        "# 리스트 기초\n",
        "# 숫자형/ 문자형 / 리스트 안에 리스트(차원)\n",
        "x = [1, 2, 3] #CSV 파일과 비슷 ,\n",
        "y = ['apple', 'banana', 'cherry']\n",
        "z = [1, [2], 3] in [2]  # 리스트안에 또 리스트가 들어갈수있다.\n",
        "\n",
        "print(len(x)) # 리스트안에 몇개의 데이터가 있는지 len() 을 사용하여 확이할수 있음 데이터 검증이 가능함.\n",
        "print(len(y)) # 리스트와 리스트간 비교할 때 갯수를 비교하여 검증 하기도함"
      ],
      "metadata": {
        "colab": {
          "base_uri": "https://localhost:8080/"
        },
        "id": "tSj6IAuoNzG-",
        "outputId": "7282f9cc-fe36-4e0b-ea24-4f9c8018f381"
      },
      "execution_count": null,
      "outputs": [
        {
          "output_type": "stream",
          "name": "stdout",
          "text": [
            "3\n",
            "3\n"
          ]
        }
      ]
    },
    {
      "cell_type": "code",
      "source": [
        "z = [1, 'apple', 2.5, ['a', 'b'], (1, 2)]\n",
        "print(z[0]) # 여러 자료형을 한리스트안에 넣는 방법은 권장되지않음 혼란스럽기때문."
      ],
      "metadata": {
        "id": "uN1lmJqZPKHG"
      },
      "execution_count": null,
      "outputs": []
    },
    {
      "cell_type": "markdown",
      "source": [
        "* 리스트 내부에 저장된 각 데이터를 \"항목\" 또는 \"원소\" 라고 부릅니다, 위의 z 리스트에는 항목이 5개 있습니다. 리스트느 콤마사이에 공백을 병합합니다."
      ],
      "metadata": {
        "id": "cKB8qyXWNve7"
      }
    },
    {
      "cell_type": "code",
      "source": [
        "z = [\n",
        "\t\t1,\n",
        "\t\t'apple',\n",
        "\t\t2.5,\n",
        "\t\t['a', 'b'],\n",
        "\t\t(1, 2)\n",
        "]\n",
        "print(z[0])\n",
        "# 위와 같이 마지막에 콤마를 넣는경우도 있다 넣어도 되고 안넣어도됨."
      ],
      "metadata": {
        "id": "TphYWd-kPm-B"
      },
      "execution_count": null,
      "outputs": []
    },
    {
      "cell_type": "markdown",
      "source": [
        "* 리스트는 순서가 있으므로, 인덱싱을 통해 접근할수 있다.z[0] 이런식으로.\n",
        "* 리스트는 데이터의 집합을 효과적으로 관리할 수 있는 중요한 자료형입니다. 데이터를 순서대로 저장하고, 필요할 때 쉽게 접근하거나 수정할 수 있으므로 많은 프로그램에서 활용됩니다."
      ],
      "metadata": {
        "id": "GSlLMtoSPveB"
      }
    },
    {
      "cell_type": "markdown",
      "source": [
        "* 리스트 오류"
      ],
      "metadata": {
        "id": "c4BcFW3gQWYt"
      }
    },
    {
      "cell_type": "code",
      "source": [
        "z[99] # Index Error: list index out of range\n",
        "z[99] = 1 # Index Error: list assignment index out of range"
      ],
      "metadata": {
        "id": "JouadRakQYZJ"
      },
      "execution_count": null,
      "outputs": []
    },
    {
      "cell_type": "markdown",
      "source": [
        "리스트는 사실 고정된 크기가 없습니다. 그러나 존재하지 않는것이 수행이 된다면 나중에 문제가 생길수 있습니다. 가상의 정보가 생성이 된다던가 정보가 꼬일수 있기 때문에 보통은 에러가 발생이됩니다. 그래서 보통 파이썬은 에러를 보고하며, 이를 가능하게 하기 위해서 append() 같은 메서드를 사용합니다.  "
      ],
      "metadata": {
        "id": "31gAhmoGQa4T"
      }
    },
    {
      "cell_type": "markdown",
      "source": [
        "* 리스트의 항목변경\n",
        "단순히 인덱스를 이용하여 변경이가능하다."
      ],
      "metadata": {
        "id": "33q5MaRJQos-"
      }
    },
    {
      "cell_type": "code",
      "source": [
        "a = [1, 2, 3, 4, 5]\n",
        "a[0] = 10000\n",
        "print(a) # 1이 10000으로 변경되어 출력"
      ],
      "metadata": {
        "id": "fvr8lJvAQ0TQ"
      },
      "execution_count": null,
      "outputs": []
    },
    {
      "cell_type": "markdown",
      "source": [
        "* 문자열은 변경이 불가능하다(immutable)\n",
        "\n",
        "\n"
      ],
      "metadata": {
        "id": "CcBxbZ50Q-Zt"
      }
    },
    {
      "cell_type": "code",
      "source": [
        "s = 'licat'\n",
        "print(s[0])\n",
        "s[0] = 'k'"
      ],
      "metadata": {
        "colab": {
          "base_uri": "https://localhost:8080/",
          "height": 202
        },
        "id": "CcYlH8chRaln",
        "outputId": "87a0238f-9dfb-485e-d1ad-4cf11fda9fbc"
      },
      "execution_count": null,
      "outputs": [
        {
          "output_type": "stream",
          "name": "stdout",
          "text": [
            "l\n"
          ]
        },
        {
          "output_type": "error",
          "ename": "TypeError",
          "evalue": "'str' object does not support item assignment",
          "traceback": [
            "\u001b[0;31m---------------------------------------------------------------------------\u001b[0m",
            "\u001b[0;31mTypeError\u001b[0m                                 Traceback (most recent call last)",
            "\u001b[0;32m<ipython-input-4-4a63b1183476>\u001b[0m in \u001b[0;36m<cell line: 3>\u001b[0;34m()\u001b[0m\n\u001b[1;32m      1\u001b[0m \u001b[0ms\u001b[0m \u001b[0;34m=\u001b[0m \u001b[0;34m'licat'\u001b[0m\u001b[0;34m\u001b[0m\u001b[0;34m\u001b[0m\u001b[0m\n\u001b[1;32m      2\u001b[0m \u001b[0mprint\u001b[0m\u001b[0;34m(\u001b[0m\u001b[0ms\u001b[0m\u001b[0;34m[\u001b[0m\u001b[0;36m0\u001b[0m\u001b[0;34m]\u001b[0m\u001b[0;34m)\u001b[0m\u001b[0;34m\u001b[0m\u001b[0;34m\u001b[0m\u001b[0m\n\u001b[0;32m----> 3\u001b[0;31m \u001b[0ms\u001b[0m\u001b[0;34m[\u001b[0m\u001b[0;36m0\u001b[0m\u001b[0;34m]\u001b[0m \u001b[0;34m=\u001b[0m \u001b[0;34m'k'\u001b[0m\u001b[0;34m\u001b[0m\u001b[0;34m\u001b[0m\u001b[0m\n\u001b[0m",
            "\u001b[0;31mTypeError\u001b[0m: 'str' object does not support item assignment"
          ]
        }
      ]
    },
    {
      "cell_type": "markdown",
      "source": [
        "## 다차원 리스트\n",
        "* 리스트는 다양한 자료형을 담을 수 있기 때문에, 리스트 안에 리스트를 넣어 다차원 리스트를 만들 수 있습니다"
      ],
      "metadata": {
        "id": "io7FMpxIUfIO"
      }
    },
    {
      "cell_type": "code",
      "source": [
        "b = [[10, 20, 30], [1, 2, 3]]\n",
        "print(b[1][2]) # 출력: 3"
      ],
      "metadata": {
        "colab": {
          "base_uri": "https://localhost:8080/"
        },
        "id": "tdxeZTujUkr5",
        "outputId": "50012943-53ae-455e-ef75-6a8c8205329c"
      },
      "execution_count": null,
      "outputs": [
        {
          "output_type": "stream",
          "name": "stdout",
          "text": [
            "3\n"
          ]
        }
      ]
    },
    {
      "cell_type": "markdown",
      "source": [
        "# 1.2 리스트 연산"
      ],
      "metadata": {
        "id": "BlXUs0Q-UvOG"
      }
    },
    {
      "cell_type": "code",
      "source": [
        "a = [1, 2, 3, 4, 5]\n",
        "b = [6, 7, 8]\n",
        "print(a + b) # [1, 2, 3, 4, 5, 6, 7, 8]\n",
        "print(b + a) # [6, 7, 8, 1, 2, 3, 4, 5]"
      ],
      "metadata": {
        "colab": {
          "base_uri": "https://localhost:8080/"
        },
        "id": "J5UC0SG8U1um",
        "outputId": "f2b002e0-e2f4-49bd-ef5d-97c92df67cd9"
      },
      "execution_count": null,
      "outputs": [
        {
          "output_type": "stream",
          "name": "stdout",
          "text": [
            "[1, 2, 3, 4, 5, 6, 7, 8]\n",
            "[6, 7, 8, 1, 2, 3, 4, 5]\n"
          ]
        }
      ]
    },
    {
      "cell_type": "code",
      "source": [
        "x = [1]\n",
        "print(x * 3) # 출력: [1, 1, 1]"
      ],
      "metadata": {
        "colab": {
          "base_uri": "https://localhost:8080/"
        },
        "id": "3th9DTk_VS4K",
        "outputId": "a7a3ded5-d6fc-4785-96a9-eaabe4e22268"
      },
      "execution_count": null,
      "outputs": [
        {
          "output_type": "stream",
          "name": "stdout",
          "text": [
            "[1, 1, 1]\n"
          ]
        }
      ]
    },
    {
      "cell_type": "markdown",
      "source": [
        "## 1.2.1 리스트 인덱싱\n",
        "* 리스트도 문자열처럼 순서가있어 인덱싱을 통해 각 항목에 접근할수 있습니다."
      ],
      "metadata": {
        "id": "AvHBJmWDVmFQ"
      }
    },
    {
      "cell_type": "code",
      "source": [
        "l = [1, 2, 3, 4, 5]\n",
        "print(l[0]) # 출력: 1\n",
        "print(l[3]) # 출력: 4\n",
        "print(l[-1]) # 출력: 5\n",
        "print(l[-3]) # 출력: 3"
      ],
      "metadata": {
        "id": "csyjWQf5V1bQ"
      },
      "execution_count": null,
      "outputs": []
    },
    {
      "cell_type": "markdown",
      "source": [
        "범위를 넘어가면 에러가 발생합니다."
      ],
      "metadata": {
        "id": "8cBuurp0V4fa"
      }
    },
    {
      "cell_type": "code",
      "source": [
        "lst = [1, 2, 3, 4, 5]\n",
        "print(len(lst))\n",
        "print(lst[10])"
      ],
      "metadata": {
        "colab": {
          "base_uri": "https://localhost:8080/",
          "height": 202
        },
        "id": "ajJRY1RTV8wm",
        "outputId": "5db319a2-3c31-406d-fac9-300cea4cc90e"
      },
      "execution_count": null,
      "outputs": [
        {
          "output_type": "stream",
          "name": "stdout",
          "text": [
            "5\n"
          ]
        },
        {
          "output_type": "error",
          "ename": "IndexError",
          "evalue": "list index out of range",
          "traceback": [
            "\u001b[0;31m---------------------------------------------------------------------------\u001b[0m",
            "\u001b[0;31mIndexError\u001b[0m                                Traceback (most recent call last)",
            "\u001b[0;32m<ipython-input-10-febabefe7d96>\u001b[0m in \u001b[0;36m<cell line: 3>\u001b[0;34m()\u001b[0m\n\u001b[1;32m      1\u001b[0m \u001b[0mlst\u001b[0m \u001b[0;34m=\u001b[0m \u001b[0;34m[\u001b[0m\u001b[0;36m1\u001b[0m\u001b[0;34m,\u001b[0m \u001b[0;36m2\u001b[0m\u001b[0;34m,\u001b[0m \u001b[0;36m3\u001b[0m\u001b[0;34m,\u001b[0m \u001b[0;36m4\u001b[0m\u001b[0;34m,\u001b[0m \u001b[0;36m5\u001b[0m\u001b[0;34m]\u001b[0m\u001b[0;34m\u001b[0m\u001b[0;34m\u001b[0m\u001b[0m\n\u001b[1;32m      2\u001b[0m \u001b[0mprint\u001b[0m\u001b[0;34m(\u001b[0m\u001b[0mlen\u001b[0m\u001b[0;34m(\u001b[0m\u001b[0mlst\u001b[0m\u001b[0;34m)\u001b[0m\u001b[0;34m)\u001b[0m\u001b[0;34m\u001b[0m\u001b[0;34m\u001b[0m\u001b[0m\n\u001b[0;32m----> 3\u001b[0;31m \u001b[0mprint\u001b[0m\u001b[0;34m(\u001b[0m\u001b[0mlst\u001b[0m\u001b[0;34m[\u001b[0m\u001b[0;36m10\u001b[0m\u001b[0;34m]\u001b[0m\u001b[0;34m)\u001b[0m\u001b[0;34m\u001b[0m\u001b[0;34m\u001b[0m\u001b[0m\n\u001b[0m",
            "\u001b[0;31mIndexError\u001b[0m: list index out of range"
          ]
        }
      ]
    },
    {
      "cell_type": "markdown",
      "source": [
        "## 1.2.2 리스트 슬라이싱\n",
        "슬라이싱은 [start:stop:step] 형태로 사용 step은 기본적으로 생략"
      ],
      "metadata": {
        "id": "ExzCNdcrWDyJ"
      }
    },
    {
      "cell_type": "code",
      "source": [
        "l = [1, 2, 3, 4, 5]\n",
        "print(l[:])     # 출력: [1, 2, 3, 4, 5]\n",
        "print(l[::-1])  # 출력: [5, 4, 3, 2, 1]\n",
        "print(l[::2])   # 출력: [1, 3, 5]\n",
        "print(l[0:4][::-1]) # 출력: [3, 2, 1]\n",
        "print(l[1::2]) # 출력: [2, 4]"
      ],
      "metadata": {
        "colab": {
          "base_uri": "https://localhost:8080/"
        },
        "id": "Pw98RLYFWOxL",
        "outputId": "a154eeae-e455-4672-8fbc-9cc25767f6dd"
      },
      "execution_count": null,
      "outputs": [
        {
          "output_type": "stream",
          "name": "stdout",
          "text": [
            "[1, 2, 3, 4, 5]\n",
            "[5, 4, 3, 2, 1]\n",
            "[1, 3, 5]\n",
            "[4, 3, 2, 1]\n",
            "[2, 4]\n"
          ]
        }
      ]
    },
    {
      "cell_type": "markdown",
      "source": [
        "- 리스트의 슬라이싱은 범위가 넘어가도 오류를 발생하지가 않는다 이는 안정적인 코드 진행을 위함임."
      ],
      "metadata": {
        "id": "-S_vJWB5Wz1w"
      }
    },
    {
      "cell_type": "markdown",
      "source": [
        "# 1.2.3. 리스트의 구조 및 특징\n",
        "리스트가 어떻게 동작하는지 대략적으로 알아보았으니 이제 리스트의 상세 구조 및 특징을 면밀히 살펴보도록 하겠습니다.\n",
        "\n",
        "## 1.2.3.1 **메모리 구조**\n",
        "\n",
        "리스트는 연속된 메모리 공간에 원소들을 저장하지 않습니다. 대신, 각 원소들은 참조를 통해 다양한 위치에 저장된 객체를 가리킵니다. 이러한 구조 때문에 리스트는 다양한 타입의 데이터를 동시에 저장할 수 있습니다.\n",
        "\n",
        "리스트의 메모리 구조를 이해하려면, 파이썬에서 객체의 저장 방식을 먼저 이해해야 합니다.\n",
        "\n",
        "파이썬에서 모든 것은 객체로 취급됩니다. 이는 정수, 실수, 문자열, 리스트, 튜플, 딕셔너리 등 모든 데이터 타입이 객체로 관리된다는 것을 의미합니다.\n",
        "\n",
        "리스트는 이 객체들의 참조를 저장하는 컨테이너로 볼 수 있습니다. 따라서 리스트의 각 요소는 실제 데이터 값을 직접 저장하는 것이 아니라, 해당 객체를 참조하는 주소를 저장합니다. 이러한 특성 때문에 리스트는 다양한 데이터 타입을 원소로 포함할 수 있습니다."
      ],
      "metadata": {
        "id": "05KNnk5OXRfc"
      }
    },
    {
      "cell_type": "markdown",
      "source": [
        "# 1.2.4 리스트 메서드\n",
        "* append() 리스트의 끝에 값을 추가합니다."
      ],
      "metadata": {
        "id": "vcoOH0vWYsoJ"
      }
    },
    {
      "cell_type": "code",
      "source": [
        "a = [1, 2, 3]\n",
        "a.append(10)\n",
        "print(a)  # 출력: [1, 2, 3, 10]"
      ],
      "metadata": {
        "id": "vcNeYBDXY1Dl"
      },
      "execution_count": null,
      "outputs": []
    },
    {
      "cell_type": "markdown",
      "source": [
        "* clear() 리스트의 모든 항목을 삭제합니다."
      ],
      "metadata": {
        "id": "JPHrcL-vY2gw"
      }
    },
    {
      "cell_type": "code",
      "source": [
        "a.clear()\n",
        "print(a)  # 출력: [] 리스트는 있지만 자료는 아무것도 없다."
      ],
      "metadata": {
        "id": "VY0_ZAhJY9Xw"
      },
      "execution_count": null,
      "outputs": []
    },
    {
      "cell_type": "markdown",
      "source": [
        "* copy() 리스트의 얕은 복사를 생성합니다. 즉, 동일한 값을 가진 새로운 리스트를 반환한다."
      ],
      "metadata": {
        "id": "mMRnLJh6Y-DO"
      }
    },
    {
      "cell_type": "code",
      "source": [
        "a = [1, 2, 3]\n",
        "b = a.copy()\n",
        "b[0] = 10000\n",
        "print(a)  # 출력: [1, 2, 3]\n",
        "print(b)  # 출력: [10000, 2, 3]"
      ],
      "metadata": {
        "colab": {
          "base_uri": "https://localhost:8080/"
        },
        "id": "zq0QrHpFZIEi",
        "outputId": "85dc7ec2-3f47-4941-bc4f-d586ce7ddf7a"
      },
      "execution_count": null,
      "outputs": [
        {
          "output_type": "stream",
          "name": "stdout",
          "text": [
            "[1, 2, 3]\n",
            "[10000, 2, 3]\n"
          ]
        }
      ]
    },
    {
      "cell_type": "code",
      "source": [
        "a = [1, 2, 3] # copy를 사용하지않으면 a도 변경될수있다.\n",
        "b = a\n",
        "b[0] = 10000\n",
        "print(a)  # 출력: [10000, 2, 3]\n",
        "print(b)  # 출력: [10000, 2, 3]"
      ],
      "metadata": {
        "colab": {
          "base_uri": "https://localhost:8080/"
        },
        "id": "MH7ibBE8ZXC6",
        "outputId": "3a1681ef-0d04-4595-ebd3-9e48d216792a"
      },
      "execution_count": null,
      "outputs": [
        {
          "output_type": "stream",
          "name": "stdout",
          "text": [
            "[10000, 2, 3]\n",
            "[10000, 2, 3]\n"
          ]
        }
      ]
    },
    {
      "cell_type": "markdown",
      "source": [
        "* 슬라이싱으로 copy와 같은 효과를 발휘할수 있습니다."
      ],
      "metadata": {
        "id": "r-Y1QMdDZrvR"
      }
    },
    {
      "cell_type": "code",
      "source": [
        "l = [10, 20, 30]\n",
        "e = l # 내용 같음 주소가 같음\n",
        "ll = l[:] # 내용 같음 주소가 다름\n",
        "print(id(l), id(e))\n",
        "print(id(ll), id(l))\n",
        "l[0] = 1000\n",
        "print(l, ll) # 출력: [1000, 20, 30] [10, 20, 30]"
      ],
      "metadata": {
        "colab": {
          "base_uri": "https://localhost:8080/"
        },
        "id": "Tmn89wIFZxws",
        "outputId": "edd22068-ad22-4be1-bf96-c85e8bb9ea56"
      },
      "execution_count": null,
      "outputs": [
        {
          "output_type": "stream",
          "name": "stdout",
          "text": [
            "140553836353344 140553836353344\n",
            "140553836808064 140553836353344\n",
            "[1000, 20, 30] [10, 20, 30]\n"
          ]
        }
      ]
    },
    {
      "cell_type": "markdown",
      "source": [
        "* count() 특정값이 리스트에 몇번 포함되어있는지 카운트"
      ],
      "metadata": {
        "id": "V_TpP1C6a2cD"
      }
    },
    {
      "cell_type": "code",
      "source": [
        "a = [1, 1, 2, 3, 1]\n",
        "print(a.count(1))  # 출력: 3"
      ],
      "metadata": {
        "id": "j5nhZlcVa_HK"
      },
      "execution_count": null,
      "outputs": []
    },
    {
      "cell_type": "markdown",
      "source": [
        "* extend() 리스트에 다른 리스트나 순회 가능한(iterable) 항목들을 추가합니다."
      ],
      "metadata": {
        "id": "EiqBs49DbCVy"
      }
    },
    {
      "cell_type": "code",
      "source": [
        "a = [1, 2, 3]\n",
        "a.extend([4, 5, 6]) # 리스트를 해체해서 하나 하나 요소들을 넣음\n",
        "a.append([1,1,1])  # 리스트 자체가 들어감\n",
        "print(a)  # 출력: [1, 2, 3, 4, 5, 6]"
      ],
      "metadata": {
        "colab": {
          "base_uri": "https://localhost:8080/"
        },
        "id": "m_sa02k-bHHa",
        "outputId": "b67a6ba7-7473-4272-d0a9-781d24ca9b66"
      },
      "execution_count": null,
      "outputs": [
        {
          "output_type": "stream",
          "name": "stdout",
          "text": [
            "[1, 2, 3, 4, 5, 6, [1, 1, 1]]\n"
          ]
        }
      ]
    },
    {
      "cell_type": "markdown",
      "source": [
        "* index() 주어진값을 찾아 해당값의 위(인덱스)를 반환합니다 str 메서드에서 index와 함께 다뤘던 find()는 없다."
      ],
      "metadata": {
        "id": "CM21kyeAbk4m"
      }
    },
    {
      "cell_type": "code",
      "source": [
        "b = [10, 20, 30, 40]\n",
        "print(b.index(30))  # 출력: 2"
      ],
      "metadata": {
        "colab": {
          "base_uri": "https://localhost:8080/"
        },
        "id": "omx_82NobzfU",
        "outputId": "f48fddee-6798-4364-cb30-d64411213f4a"
      },
      "execution_count": null,
      "outputs": [
        {
          "output_type": "stream",
          "name": "stdout",
          "text": [
            "2\n"
          ]
        }
      ]
    },
    {
      "cell_type": "markdown",
      "source": [
        "* insert() 주어진 위치에 값을 삽입"
      ],
      "metadata": {
        "id": "VfFirgJUb2_8"
      }
    },
    {
      "cell_type": "code",
      "source": [
        "b.insert(2, 25)\n",
        "print(b)  # 출력: [10, 20, 25, 30, 40]"
      ],
      "metadata": {
        "colab": {
          "base_uri": "https://localhost:8080/"
        },
        "id": "p97JuNR3b6Ru",
        "outputId": "0dfea2d6-f617-433e-971d-a2992cc58ff1"
      },
      "execution_count": null,
      "outputs": [
        {
          "output_type": "stream",
          "name": "stdout",
          "text": [
            "[10, 20, 25, 30, 40]\n"
          ]
        }
      ]
    },
    {
      "cell_type": "markdown",
      "source": [
        "* pop() 리스트의 특정위치에 있는 값을 반환하고 해당값을 반환합니다."
      ],
      "metadata": {
        "id": "5GsseA4hcUWT"
      }
    },
    {
      "cell_type": "code",
      "source": [
        "b = [10, 20, 25, 30, 40]\n",
        "print(b.pop(2))  # 출력: 25\n",
        "print(b)  # 출력: [10, 20, 30, 40]"
      ],
      "metadata": {
        "colab": {
          "base_uri": "https://localhost:8080/"
        },
        "id": "D8Q-AYpIcdkH",
        "outputId": "e1037155-d5db-4ea5-a8b7-0aba95e998be"
      },
      "execution_count": null,
      "outputs": [
        {
          "output_type": "stream",
          "name": "stdout",
          "text": [
            "25\n",
            "[10, 20, 30, 40]\n"
          ]
        }
      ]
    },
    {
      "cell_type": "code",
      "source": [
        "# 마지막에서 빼는 것\n",
        "l = [10, 20, 30]\n",
        "print(l.pop())\n",
        "print(l)"
      ],
      "metadata": {
        "colab": {
          "base_uri": "https://localhost:8080/"
        },
        "id": "sqo_nlaicsg_",
        "outputId": "480e3dbc-199f-4fd6-8a49-825e00251c9f"
      },
      "execution_count": null,
      "outputs": [
        {
          "output_type": "stream",
          "name": "stdout",
          "text": [
            "30\n",
            "[10, 20]\n"
          ]
        }
      ]
    },
    {
      "cell_type": "markdown",
      "source": [
        "* remove() 리스트에서 첫번쨰로 주어진값을 삭제합니다."
      ],
      "metadata": {
        "id": "rjNxlGRYdEGK"
      }
    },
    {
      "cell_type": "code",
      "source": [
        "c = [1, 2, 3, 1, 2]\n",
        "c.remove(2)\n",
        "print(c)  # 출력: [1, 3, 1, 2]"
      ],
      "metadata": {
        "colab": {
          "base_uri": "https://localhost:8080/"
        },
        "id": "8ouqwKqidJW-",
        "outputId": "ab8de66c-d666-40ae-ae30-5324c7a8cfe8"
      },
      "execution_count": null,
      "outputs": [
        {
          "output_type": "stream",
          "name": "stdout",
          "text": [
            "[1, 3, 1, 2]\n"
          ]
        }
      ]
    },
    {
      "cell_type": "markdown",
      "source": [
        "* reverse()  리스트의 항목들의 순서를 뒤집습니다. 이 메서드는 원래의 리스트를 변경하고, 아무것도 반환하지 않습니다(None을 반환).\n",
        "* reversed()  역순으로 새로운 이터러블 객체를 반환하는 내장 함수입니다. map이나 zip처럼 메모리 값만 반환하기에 아래 예제에서는 리스트로 형변환을 하였습니다. 원래의 리스트는 변경되지 않습니다."
      ],
      "metadata": {
        "id": "ub7TdivRdY_r"
      }
    },
    {
      "cell_type": "code",
      "source": [
        "c.reverse()\n",
        "print(c)  # 출력: [2, 1, 3, 1]"
      ],
      "metadata": {
        "colab": {
          "base_uri": "https://localhost:8080/"
        },
        "id": "SM1iJzuzdisb",
        "outputId": "1e3b1db4-5471-455f-b98e-f934bdc7e35e"
      },
      "execution_count": null,
      "outputs": [
        {
          "output_type": "stream",
          "name": "stdout",
          "text": [
            "[2, 1, 3, 1]\n"
          ]
        }
      ]
    },
    {
      "cell_type": "code",
      "source": [
        "a = [3, 2, 5, 1, 4]\n",
        "b = reversed(a)\n",
        "print(a)        # 출력: [3, 2, 5, 1, 4]\n",
        "print(list(b))  # 출력: [4, 1, 5, 2, 3]"
      ],
      "metadata": {
        "colab": {
          "base_uri": "https://localhost:8080/"
        },
        "id": "3IggirhVdm53",
        "outputId": "2d39b362-87f9-463e-a472-fd4d0ef02c2a"
      },
      "execution_count": null,
      "outputs": [
        {
          "output_type": "stream",
          "name": "stdout",
          "text": [
            "[3, 2, 5, 1, 4]\n",
            "[4, 1, 5, 2, 3]\n"
          ]
        }
      ]
    },
    {
      "cell_type": "markdown",
      "source": [
        "* sort() 는 리스트 자체를 정렬합니다. 이 메서드는 원래의 리스트를 변경하고, 아무것도 반환하지 않습니다(None을 반환)."
      ],
      "metadata": {
        "id": "XcrZI_4Cd0sL"
      }
    },
    {
      "cell_type": "code",
      "source": [
        "a = [3, 2, 5, 1, 4]\n",
        "a.sort()\n",
        "print(a)  # 출력: [1, 2, 3, 4, 5]"
      ],
      "metadata": {
        "id": "STbAoENGd7I9"
      },
      "execution_count": null,
      "outputs": []
    },
    {
      "cell_type": "markdown",
      "source": [
        "* sorted()  새로운 리스트를 반환하는 내장 함수입니다. 원래의 리스트는 변경되지 않습니다."
      ],
      "metadata": {
        "id": "bn7v806qd9Fq"
      }
    },
    {
      "cell_type": "code",
      "source": [
        "a = [3, 2, 5, 1, 4]\n",
        "b = sorted(a)\n",
        "print(a)  # 출력: [3, 2, 5, 1, 4]\n",
        "print(b)  # 출력: [1, 2, 3, 4, 5]"
      ],
      "metadata": {
        "colab": {
          "base_uri": "https://localhost:8080/"
        },
        "id": "f21pXKaCeCbp",
        "outputId": "b16eb9d8-c101-4e27-a57b-5fc99716cb21"
      },
      "execution_count": null,
      "outputs": [
        {
          "output_type": "stream",
          "name": "stdout",
          "text": [
            "[3, 2, 5, 1, 4]\n",
            "[1, 2, 3, 4, 5]\n"
          ]
        }
      ]
    },
    {
      "cell_type": "markdown",
      "source": [
        "# 2. 튜플\n",
        "* 튜플은 파이썬에서 제공하는 불변(immutable)하고 순서가 있는 시퀀스 자료형입니다. 리스트와 유사하게 여러 개의 데이터를 하나로 묶어서 사용할 수 있지만, 한 번 생성된 튜플은 내부의 값 변경이 불가능합니다."
      ],
      "metadata": {
        "id": "QBU6K5Eaekkj"
      }
    },
    {
      "cell_type": "markdown",
      "source": [
        "## 2.1 튜플 생성\n",
        "\n",
        "튜플은 소괄호`()`를 사용하고 그 안에 쉼표`,`로 구분된 데이터들을 넣으면 됩니다"
      ],
      "metadata": {
        "id": "UlT3OX_qoI-R"
      }
    },
    {
      "cell_type": "code",
      "source": [
        "x = (1, 2, 3)\n",
        "y = ('apple', 'banana', 'cherry')"
      ],
      "metadata": {
        "id": "tyeq87B_oSjS"
      },
      "execution_count": null,
      "outputs": []
    },
    {
      "cell_type": "code",
      "source": [
        "t1 = () # tuple\n",
        "t2 = (0,) # tuple 단일 값의 튜플을 사용할때 꼭 콤마를 넣어주세요!\n",
        "t3 = (0) # int\n",
        "t4 = (0.1) # float\n",
        "print(type(t1))\n",
        "print(type(t2))\n",
        "print(type(t3))\n",
        "print(type(t4))"
      ],
      "metadata": {
        "colab": {
          "base_uri": "https://localhost:8080/"
        },
        "id": "Q6FsPwJRobUL",
        "outputId": "f79d9341-83e8-4fa8-ca91-7993ef1762f0"
      },
      "execution_count": null,
      "outputs": [
        {
          "output_type": "stream",
          "name": "stdout",
          "text": [
            "<class 'tuple'>\n",
            "<class 'tuple'>\n",
            "<class 'int'>\n",
            "<class 'float'>\n"
          ]
        }
      ]
    },
    {
      "cell_type": "markdown",
      "source": [
        "## 2.2 튜플의 특징\n",
        "* 튜플은 변경이불가능하다\n",
        "처음에 언급했다시피 튜플은 한 번 생성하면 그 안의 참조 값을 바꿀 수 없습니다. 여기서 참조 값은 가리키고 있는 값입니다. 위에서 살펴본 것처럼 안에 변경 가능한 자료형을 넣으면 값에 변경은 될 수 있습니다"
      ],
      "metadata": {
        "id": "DtiSw5dCojqe"
      }
    },
    {
      "cell_type": "code",
      "source": [
        "a = (1, 2, 3, 4, 5)\n",
        "a = a(0) = 10000\n",
        "print(a)\n",
        "# a[0] = 10000 이렇게 하면 에러가 발생합니다!\n",
        "# 튜플 오브젝트는 새로운 아이템의 할당을 허용하지 않습니다. 라는 오류"
      ],
      "metadata": {
        "colab": {
          "base_uri": "https://localhost:8080/",
          "height": 110
        },
        "id": "-c9WLh02ortp",
        "outputId": "8f15079f-c387-46bc-f5ee-e47d9f8f42ed"
      },
      "execution_count": null,
      "outputs": [
        {
          "output_type": "error",
          "ename": "SyntaxError",
          "evalue": "cannot assign to function call (<ipython-input-33-c8e146dbb576>, line 2)",
          "traceback": [
            "\u001b[0;36m  File \u001b[0;32m\"<ipython-input-33-c8e146dbb576>\"\u001b[0;36m, line \u001b[0;32m2\u001b[0m\n\u001b[0;31m    a = a(0) = 10000\u001b[0m\n\u001b[0m        ^\u001b[0m\n\u001b[0;31mSyntaxError\u001b[0m\u001b[0;31m:\u001b[0m cannot assign to function call\n"
          ]
        }
      ]
    },
    {
      "cell_type": "markdown",
      "source": [
        "* 튜플은 왜쓸까\n",
        "데이터의 보호"
      ],
      "metadata": {
        "id": "VnfLOMSBozdw"
      }
    },
    {
      "cell_type": "markdown",
      "source": [
        "## 2.3 튜플의 메서드\n",
        "* count() 튜플내에서 특정값이 나타나는 횟수"
      ],
      "metadata": {
        "id": "3NRULO_LpAWq"
      }
    },
    {
      "cell_type": "code",
      "source": [
        "tuple1 = (1, 2, 3, 4, 3, 5)\n",
        "print(tuple1.count(3))  # 출력: 2\n",
        "# 보통은 튜플내에서는 유일 값만있어 잘 쓰이지않는 함수"
      ],
      "metadata": {
        "id": "nbwjn1KBpHJ6"
      },
      "execution_count": null,
      "outputs": []
    },
    {
      "cell_type": "markdown",
      "source": [
        "* index() 특정 값이 튜플 내에서 처음으로 나타나는 위치의 인덱스를 반환합니다."
      ],
      "metadata": {
        "id": "8SQ5T6XppMVj"
      }
    },
    {
      "cell_type": "code",
      "source": [
        "tuple1 = (1, 2, 3, 4, 3, 5)\n",
        "print(tuple1.index(3))  # 출력: 2"
      ],
      "metadata": {
        "id": "d_p_04PipSwr"
      },
      "execution_count": null,
      "outputs": []
    },
    {
      "cell_type": "markdown",
      "source": [
        "# 3 딕셔너리\n",
        "* 파이썬의 딕셔너리는 마치 일상생활에서 사용하는 **사전** 같은 자료형입니다. 사전에는 단어와 그 단어의 뜻이 함께 들어있죠. 파이썬의 딕셔너리도 이와 비슷하게, `키(key)`와 그에 해당하는 `값(value)`이 함께 들어있습니다.\n",
        "\n",
        "예를 들면, `{'name': 'licat', 'city': 'Jeju', 'job': 'Developer'}`에서 `'name'`은 키이고, `'licat'`은 그에 해당하는 값입니다. 이 딕셔너리의 길이는 3개의 키-값 쌍으로 이루어져 있어요.\n",
        "\n",
        "이는 어떨때 쓰일까요? 하나의 사람이 등록시에 주민번호와 학번, 제품번호등을 같이 입력하게 된다면 바로바로 필요한 값을 찾을수 있겠죠? 이렇게 저장하게 되면 엑셀처럼 값을 저장하는것이 가능하게 됩니다.\n",
        "\n",
        "딕셔너리는 이런 키-값 쌍의 형태로 정보를 저장하므로, 특정 정보를 빠르게 찾아내거나 접근할 수 있습니다. 또한 딕셔너리는 키를 기준으로 데이터를 찾기 때문에 키는 **유일**해야 합니다. 즉, 중복된 키를 가질 수 없어요. 그렇지만 값은 중복될 수 있습니다. 만약 중복된 키를 사용하면, 그 키에 해당하는 이전 값은 사라지게 됩니다.\n",
        "\n",
        "이런 특성 덕분에, 딕셔너리는 파이썬에서 정보를 효율적으로 관리하고 조작하는 데 매우 유용한 자료형입니다."
      ],
      "metadata": {
        "id": "f_l-I3qvpdMq"
      }
    },
    {
      "cell_type": "markdown",
      "source": [
        "## 3.1 딕셔너리 생성\n"
      ],
      "metadata": {
        "id": "sYhSD2c3rAdO"
      }
    },
    {
      "cell_type": "code",
      "source": [
        "minwoo = {'age' : 20, 'job' : 'X'}\n",
        "print(minwoo) # 형태 {키 : 값}으로 이루어짐"
      ],
      "metadata": {
        "colab": {
          "base_uri": "https://localhost:8080/"
        },
        "id": "_mQ9jdN8q_5k",
        "outputId": "2cecb83f-cfaa-40eb-e803-7e6f451a4dcd"
      },
      "execution_count": null,
      "outputs": [
        {
          "output_type": "stream",
          "name": "stdout",
          "text": [
            "{'age': 20, 'job': 'X'}\n"
          ]
        }
      ]
    },
    {
      "cell_type": "markdown",
      "source": [
        "## 3.1.1 빈 딕셔너리 생성 dict 함수로 생성"
      ],
      "metadata": {
        "id": "uU7MzQ2vrZ2N"
      }
    },
    {
      "cell_type": "code",
      "source": [
        "d1 = {}\n",
        "d2 = dict()\n",
        "\n",
        "print(type(d1))  # 출력: <class 'dict'>\n",
        "print(type(d2))  # 출력: <class 'dict'>"
      ],
      "metadata": {
        "colab": {
          "base_uri": "https://localhost:8080/"
        },
        "id": "kZ3VgPmRrfOP",
        "outputId": "97e48acd-2582-4828-b743-a57f2e08e75c"
      },
      "execution_count": null,
      "outputs": [
        {
          "output_type": "stream",
          "name": "stdout",
          "text": [
            "<class 'dict'>\n",
            "<class 'dict'>\n"
          ]
        }
      ]
    },
    {
      "cell_type": "markdown",
      "source": [
        "## 3.1.2 키는 중복될수 없다"
      ],
      "metadata": {
        "id": "DvW4FM78rqJk"
      }
    },
    {
      "cell_type": "code",
      "source": [
        "d = {'one' : '하나', 'one' : '하나2', 'one' : '하나3'}\n",
        "print(d)  # 출력: {'one' : '하나3'}"
      ],
      "metadata": {
        "colab": {
          "base_uri": "https://localhost:8080/"
        },
        "id": "ZAFJgn-PshAi",
        "outputId": "b9d908c6-a513-4add-f898-1a836639e4e2"
      },
      "execution_count": null,
      "outputs": [
        {
          "output_type": "stream",
          "name": "stdout",
          "text": [
            "{'one': '하나3'}\n"
          ]
        }
      ]
    },
    {
      "cell_type": "markdown",
      "source": [
        "## 3.1.3 튜플리스트로 생성\n",
        "* 키와 값을 갖는 튜플의 리스트로 딕셔너리를 생성할 수 있습니다."
      ],
      "metadata": {
        "id": "t-m0-y9zskMt"
      }
    },
    {
      "cell_type": "code",
      "source": [
        "d = dict([('one' , '하나'), ('two', '둘')])\n",
        "print(d)  # 출력: {'one' : '하나', 'two' : '둘'}"
      ],
      "metadata": {
        "colab": {
          "base_uri": "https://localhost:8080/"
        },
        "id": "1JjVQUjfsuF_",
        "outputId": "7f22cb13-1217-4f5f-b054-bf54f7454bcd"
      },
      "execution_count": null,
      "outputs": [
        {
          "output_type": "stream",
          "name": "stdout",
          "text": [
            "{'one': '하나', 'two': '둘'}\n"
          ]
        }
      ]
    },
    {
      "cell_type": "markdown",
      "source": [
        "## 3.1.4 키워드 인자로 생성"
      ],
      "metadata": {
        "id": "3mY_HfxRs330"
      }
    },
    {
      "cell_type": "code",
      "source": [
        "d = dict(name='licat', age=10)\n",
        "print(d)  # 출력: {'name': 'licat', 'age': 10}"
      ],
      "metadata": {
        "colab": {
          "base_uri": "https://localhost:8080/"
        },
        "id": "tdKLghsUs_Bz",
        "outputId": "5a9e1686-e793-402f-bfc0-76f048471224"
      },
      "execution_count": null,
      "outputs": [
        {
          "output_type": "stream",
          "name": "stdout",
          "text": [
            "{'name': 'licat', 'age': 10}\n"
          ]
        }
      ]
    },
    {
      "cell_type": "markdown",
      "source": [
        "## 3.1.5 다양한 자료형을 값으로 넣는다"
      ],
      "metadata": {
        "id": "abJ6dcmutApD"
      }
    },
    {
      "cell_type": "code",
      "source": [
        "complex_dict = {\n",
        "    \"numbers\": [1, 2, 3],\n",
        "    42: \"answer\",\n",
        "    (\"x\", \"y\"): [10, 20],\n",
        "    True: [100, 200]\n",
        "}\n",
        "print(complex_dict[\"numbers\"])  # 출력: [1, 2, 3]\n",
        "print(complex_dict[42])         # 출력: answer\n",
        "print(complex_dict[(\"x\", \"y\")]) # 출력: [10, 20]\n",
        "print(complex_dict[True])       # 출력: [10, 20]"
      ],
      "metadata": {
        "colab": {
          "base_uri": "https://localhost:8080/"
        },
        "id": "2GJPdxvztFBf",
        "outputId": "adf75835-cc92-42d6-fef0-cfca1420b8e6"
      },
      "execution_count": null,
      "outputs": [
        {
          "output_type": "stream",
          "name": "stdout",
          "text": [
            "[1, 2, 3]\n",
            "answer\n",
            "[10, 20]\n",
            "[100, 200]\n"
          ]
        }
      ]
    },
    {
      "cell_type": "markdown",
      "source": [
        "## 3.2 딕셔너리 수정  및 중첩\n",
        "### 3.2.1 딕셔너리 항목 변경 및 추가\n",
        "딕셔너리의 항목 값을 변경하려면, 해당 키를 이용하여 값을 할당하면 됩니다. 존재하지 않는 키를 이용하여 값을 할당하면, 새로운 키-값 쌍이 추가됩니다."
      ],
      "metadata": {
        "id": "4vs0QvdFwAmD"
      }
    },
    {
      "cell_type": "code",
      "source": [
        "person = {'name': 'licat', 'city': 'Jeju'}\n",
        "person['name'] = 'mura'\n",
        "person['city'] = 'Seoul'\n",
        "\n",
        "\n",
        "print(person) # 출력: {'name': 'mura', 'city': 'Seoul'} 키에 접근해서 값을 변경,"
      ],
      "metadata": {
        "id": "s22H89E_wSvp"
      },
      "execution_count": null,
      "outputs": []
    },
    {
      "cell_type": "markdown",
      "source": [
        "### 3.2.2 중첩된 딕셔너리\n",
        " 딕셔너리안에 또다른 딕셔너리를 넣을수 있습니다."
      ],
      "metadata": {
        "id": "htGrlKebwdwd"
      }
    },
    {
      "cell_type": "code",
      "source": [
        "users = {\n",
        "    \"leehojun\": {\"city\": \"Jeju\", \"job\": \"Developer\"},\n",
        "    \"licat\": {\"city\": \"Seoul\", \"job\": \"Designer\"}\n",
        "}\n",
        "print(users[\"leehojun\"][\"job\"]) # 출력: Developer"
      ],
      "metadata": {
        "colab": {
          "base_uri": "https://localhost:8080/"
        },
        "id": "jE6126iBwi-k",
        "outputId": "34c5f7f5-8865-4cb8-aabe-2c2dc6a26c2d"
      },
      "execution_count": null,
      "outputs": [
        {
          "output_type": "stream",
          "name": "stdout",
          "text": [
            "Developer\n"
          ]
        }
      ]
    },
    {
      "cell_type": "markdown",
      "source": [
        "### 3.2.3 zip 함수와 dic을 사용한 딕셔너리 생성\n",
        "* 앞서 built-in function 챕터에서 살펴본 zip은 두 리스트를 서로 짝짓는 함수입니다. dict는 그 짝을 딕셔너리로 바꿔줍니다."
      ],
      "metadata": {
        "id": "AtS1aDKJw0JB"
      }
    },
    {
      "cell_type": "code",
      "source": [
        "keys = [\"name\", \"city\", \"job\"] # 리스트 1\n",
        "values = [\"licat\", \"Jeju\", \"Developer\"] # 리스트 2\n",
        "\n",
        "\n",
        "new_dict = dict(zip(keys, values)) # 리스트 두가지를 딕셔너리로 변경\n",
        "print(new_dict)"
      ],
      "metadata": {
        "colab": {
          "base_uri": "https://localhost:8080/"
        },
        "id": "oDhqNMWrw-Fu",
        "outputId": "4cc24a42-f5bf-4788-c67c-e738c8fab77e"
      },
      "execution_count": null,
      "outputs": [
        {
          "output_type": "stream",
          "name": "stdout",
          "text": [
            "{'name': 'licat', 'city': 'Jeju', 'job': 'Developer'}\n"
          ]
        }
      ]
    },
    {
      "cell_type": "markdown",
      "source": [
        "## 3.2.4 딕셔너리 메서드\n",
        "* clear() 메서드 딕셔너리의 모든 키-값을 삭제"
      ],
      "metadata": {
        "id": "jVjwGfgtxVhr"
      }
    },
    {
      "cell_type": "markdown",
      "source": [
        "* copy() 딕셔너리의 얕은복사본을 반환"
      ],
      "metadata": {
        "id": "UuZnk-fTxhD6"
      }
    },
    {
      "cell_type": "markdown",
      "source": [
        "* fromkeys() 시퀀스자료형을 기반으로 딕셔너리를 생성"
      ],
      "metadata": {
        "id": "UFbFFgJixmjF"
      }
    },
    {
      "cell_type": "code",
      "source": [
        "keys = ['name', 'city', 'job']\n",
        "value = None\n",
        "print(dict.fromkeys(keys, value))"
      ],
      "metadata": {
        "colab": {
          "base_uri": "https://localhost:8080/"
        },
        "id": "OGNWSj7cxt0t",
        "outputId": "e43bc9d3-0610-4cea-a318-b431ede1abd8"
      },
      "execution_count": null,
      "outputs": [
        {
          "output_type": "stream",
          "name": "stdout",
          "text": [
            "{'name': None, 'city': None, 'job': None}\n"
          ]
        }
      ]
    },
    {
      "cell_type": "code",
      "source": [
        "keys = ['name', 'city', 'job']\n",
        "value = ['licat', 'Jeju', 'Developer']\n",
        "print(dict.fromkeys(keys, value))"
      ],
      "metadata": {
        "colab": {
          "base_uri": "https://localhost:8080/"
        },
        "id": "RZKDBBK1x75r",
        "outputId": "8692935e-d254-4c4c-9a4b-30f895842560"
      },
      "execution_count": null,
      "outputs": [
        {
          "output_type": "stream",
          "name": "stdout",
          "text": [
            "{'name': ['licat', 'Jeju', 'Developer'], 'city': ['licat', 'Jeju', 'Developer'], 'job': ['licat', 'Jeju', 'Developer']}\n"
          ]
        }
      ]
    },
    {
      "cell_type": "markdown",
      "source": [
        "* get() 딕셔너리에서는 존재하지 않는 키를 직접 접근하면 오류가 발생합니다. 딕셔너리에서 에러없이 값을 추출하려면 get 메서드를 사용합니다. 만약 해당 키가 없을 경우에는 None을 반환하지만 두번째 인자에 값을 넣어 기본값을 반환할 수도 있습니다."
      ],
      "metadata": {
        "id": "LE8rRBkayKRT"
      }
    },
    {
      "cell_type": "code",
      "source": [
        "my_list.get('key', 'default(선택)')\n",
        "# key값을 찾을건데, 없으면 default값에 들어간 값으로 알려줘 라는 뜻입니다."
      ],
      "metadata": {
        "id": "NnCf__b0yczY"
      },
      "execution_count": null,
      "outputs": []
    },
    {
      "cell_type": "code",
      "source": [
        "numbers = {'one': '하나', 'two': '둘', 'three': '셋'}\n",
        "print(numbers.get('four'))\n",
        "print(numbers.get('three', '없음'))\n",
        "print(numbers.get('four', '없음'))\n",
        "print(numbers['four'])"
      ],
      "metadata": {
        "colab": {
          "base_uri": "https://localhost:8080/",
          "height": 239
        },
        "id": "MHIXL-ylyg2R",
        "outputId": "1e087d95-189e-4936-90c0-56bfcb0fbd04"
      },
      "execution_count": null,
      "outputs": [
        {
          "output_type": "stream",
          "name": "stdout",
          "text": [
            "None\n",
            "셋\n",
            "없음\n"
          ]
        },
        {
          "output_type": "error",
          "ename": "KeyError",
          "evalue": "'four'",
          "traceback": [
            "\u001b[0;31m---------------------------------------------------------------------------\u001b[0m",
            "\u001b[0;31mKeyError\u001b[0m                                  Traceback (most recent call last)",
            "\u001b[0;32m<ipython-input-45-ea2c2b084411>\u001b[0m in \u001b[0;36m<cell line: 5>\u001b[0;34m()\u001b[0m\n\u001b[1;32m      3\u001b[0m \u001b[0mprint\u001b[0m\u001b[0;34m(\u001b[0m\u001b[0mnumbers\u001b[0m\u001b[0;34m.\u001b[0m\u001b[0mget\u001b[0m\u001b[0;34m(\u001b[0m\u001b[0;34m'three'\u001b[0m\u001b[0;34m,\u001b[0m \u001b[0;34m'없음'\u001b[0m\u001b[0;34m)\u001b[0m\u001b[0;34m)\u001b[0m\u001b[0;34m\u001b[0m\u001b[0;34m\u001b[0m\u001b[0m\n\u001b[1;32m      4\u001b[0m \u001b[0mprint\u001b[0m\u001b[0;34m(\u001b[0m\u001b[0mnumbers\u001b[0m\u001b[0;34m.\u001b[0m\u001b[0mget\u001b[0m\u001b[0;34m(\u001b[0m\u001b[0;34m'four'\u001b[0m\u001b[0;34m,\u001b[0m \u001b[0;34m'없음'\u001b[0m\u001b[0;34m)\u001b[0m\u001b[0;34m)\u001b[0m\u001b[0;34m\u001b[0m\u001b[0;34m\u001b[0m\u001b[0m\n\u001b[0;32m----> 5\u001b[0;31m \u001b[0mprint\u001b[0m\u001b[0;34m(\u001b[0m\u001b[0mnumbers\u001b[0m\u001b[0;34m[\u001b[0m\u001b[0;34m'four'\u001b[0m\u001b[0;34m]\u001b[0m\u001b[0;34m)\u001b[0m\u001b[0;34m\u001b[0m\u001b[0;34m\u001b[0m\u001b[0m\n\u001b[0m",
            "\u001b[0;31mKeyError\u001b[0m: 'four'"
          ]
        }
      ]
    },
    {
      "cell_type": "markdown",
      "source": [
        "* **items** () 많이사용되는 함수로써 딕셔너리의 키와 값을 쌍으로 추출하려면 items 메서드를 사용합니다. 반환되는 결과는 dict_items 객체입니다. 이 객체는 인덱싱이 안되니 인덱싱을 하고 싶다면 list로 변환 후 사용해주세요"
      ],
      "metadata": {
        "id": "GBwUE44ty0Nz"
      }
    },
    {
      "cell_type": "code",
      "source": [
        "person = {'name': 'licat', 'city': 'Jeju', 'job': 'Developer'}\n",
        "print(person.items())"
      ],
      "metadata": {
        "colab": {
          "base_uri": "https://localhost:8080/"
        },
        "id": "l0gTGc-Ry9bZ",
        "outputId": "3ff1654a-af66-4cd6-e43f-37e101696f18"
      },
      "execution_count": null,
      "outputs": [
        {
          "output_type": "stream",
          "name": "stdout",
          "text": [
            "dict_items([('name', 'licat'), ('city', 'Jeju'), ('job', 'Developer')])\n"
          ]
        }
      ]
    },
    {
      "cell_type": "markdown",
      "source": [
        "- 딕셔너리에서 특정 키의 존재 여부를 확인하려면 in 연산자를 활용합니다."
      ],
      "metadata": {
        "id": "dXgBmL5QzKiR"
      }
    },
    {
      "cell_type": "code",
      "source": [
        "numbers = {'one': '하나', 'two': '둘', 'three': '셋'}\n",
        "print('one' in numbers)\n",
        "print('four' in numbers)"
      ],
      "metadata": {
        "id": "chm5i6sBzJlV"
      },
      "execution_count": null,
      "outputs": []
    },
    {
      "cell_type": "markdown",
      "source": [
        "* keys() 딕셔너리의 모든키를 추출할때사용됨 (키만 추출) dict_keys개체로 반환됩니다."
      ],
      "metadata": {
        "id": "B8x0VFts0zsb"
      }
    },
    {
      "cell_type": "code",
      "source": [
        "person = {'name': 'licat', 'city': 'Jeju', 'job': 'Developer'}\n",
        "print(person.keys())"
      ],
      "metadata": {
        "colab": {
          "base_uri": "https://localhost:8080/"
        },
        "id": "YBu7V6c41CtD",
        "outputId": "c60a255d-5de5-44e1-b6e4-c9e4f0d24ff9"
      },
      "execution_count": null,
      "outputs": [
        {
          "output_type": "stream",
          "name": "stdout",
          "text": [
            "dict_keys(['name', 'city', 'job'])\n"
          ]
        }
      ]
    },
    {
      "cell_type": "markdown",
      "source": [
        "* pop() 메서드는 주어진키의 값을 반환하고 해당 키-값을 딕셔너리에서 삭제"
      ],
      "metadata": {
        "id": "sKSwzULa1J9A"
      }
    },
    {
      "cell_type": "code",
      "source": [
        "numbers = {'one': '하나', 'two': '둘', 'three': '셋'}\n",
        "one_value = numbers.pop('one')\n",
        "print(one_value)\n",
        "print(numbers)"
      ],
      "metadata": {
        "colab": {
          "base_uri": "https://localhost:8080/"
        },
        "id": "43MthrNv1Oyg",
        "outputId": "beb82fe7-d38a-4db1-8dea-6061a7f171e3"
      },
      "execution_count": null,
      "outputs": [
        {
          "output_type": "stream",
          "name": "stdout",
          "text": [
            "하나\n",
            "{'two': '둘', 'three': '셋'}\n"
          ]
        }
      ]
    },
    {
      "cell_type": "markdown",
      "source": [
        "* popitem() 메서드는 키값 쌍을 을 반환하고 그 항목을 삭제합니다."
      ],
      "metadata": {
        "id": "YiN94cOz1Tom"
      }
    },
    {
      "cell_type": "code",
      "source": [
        "numbers = {'one': '하나', 'two': '둘', 'three': '셋'}\n",
        "item = numbers.popitem()\n",
        "print(item)\n",
        "print(numbers)"
      ],
      "metadata": {
        "id": "7Y24fEo91fXk"
      },
      "execution_count": null,
      "outputs": []
    },
    {
      "cell_type": "markdown",
      "source": [
        "* update() 기존 딕셔너리에 추가 데이터를 병합하려면 update 메서드를 사용합니다."
      ],
      "metadata": {
        "id": "6gewd4kK1f8f"
      }
    },
    {
      "cell_type": "code",
      "source": [
        "numbers = {'one': '하나', 'two': '둘', 'three': '셋'}\n",
        "numbers.update({'four': '넷', 'five': '다섯'})\n",
        "print(numbers)"
      ],
      "metadata": {
        "colab": {
          "base_uri": "https://localhost:8080/"
        },
        "id": "CG0fLwB313Be",
        "outputId": "5b1fbd8d-bd56-42f4-f2b0-e938b1fc8200"
      },
      "execution_count": null,
      "outputs": [
        {
          "output_type": "stream",
          "name": "stdout",
          "text": [
            "{'one': '하나', 'two': '둘', 'three': '셋', 'four': '넷', 'five': '다섯'}\n"
          ]
        }
      ]
    },
    {
      "cell_type": "markdown",
      "source": [
        "* values() 메서드는 딕셔너리에서 값들만 추출하려 할 때 사용됩니다. 이 메서드의 반환값은 dict_values 객체입니다. 이 객체도 dict_keys와 마찬가지로 리스트와 유사하게 작동하지만, 리스트의 메서드를 모두 지원하는 것은 아닙니다. 그럼에도 불구하고, dict_values 객체는 반복문과 함께 사용하여 순회할 수 있습니다."
      ],
      "metadata": {
        "id": "hIBrT9qK1mRR"
      }
    },
    {
      "cell_type": "code",
      "source": [
        "person = {'name': 'licat', 'city': 'Jeju', 'job': 'Developer'}\n",
        "print(person.values())"
      ],
      "metadata": {
        "colab": {
          "base_uri": "https://localhost:8080/"
        },
        "id": "XxiiS0fb1puM",
        "outputId": "293091e7-aded-4b67-e409-833ab00857ae"
      },
      "execution_count": null,
      "outputs": [
        {
          "output_type": "stream",
          "name": "stdout",
          "text": [
            "dict_values(['licat', 'Jeju', 'Developer'])\n"
          ]
        }
      ]
    },
    {
      "cell_type": "markdown",
      "source": [
        "# 4. 셋 (set)\n",
        "Set 자료형은 집합이라고 부르며, 집합은 여러분이 수학 시간에 배웠던 그 집합과 매우 비슷합니다. 파이썬에서의 집합도 여러 항목들의 모임을 나타내는 자료형입니다. 그러나 리스트나 튜플과는 다르게 집합은 **순서가 없으며, 중복된 값도 허용하지 않습니다.**\n",
        "\n",
        "사실 셋은 수학의 집합과 거의 비슷하다고 생각하시면 됩니다. 대표적으로 문서 하나에 있는 단어를 셀때에 모든 단어를 추출 하되 중복이 제거된다면 어떤 단어가 있는지 더 파악하기가 쉽겠죠?\n",
        "\n",
        "예를 들어, {1, 2, 3, '사과', '바나나'}는 5개의 항목을 가진 집합입니다. 하지만 {1, 2, 2, 3, 3}는 중복된 값이 있기 때문에 실제로는 {1, 2, 3}처럼 3개의 항목만을 가지게 됩니다.\n",
        "\n"
      ],
      "metadata": {
        "id": "SygK0Dey2sG9"
      }
    },
    {
      "cell_type": "markdown",
      "source": [],
      "metadata": {
        "id": "QJx1zks13CNt"
      }
    },
    {
      "cell_type": "markdown",
      "source": [
        "## 4.1.1 집합 생성\n",
        "- 집합을 생성하는 가장 간단한 방법은 중괄호{}를 사용하고 그 안에 쉼표,로 구분된 데이터들을 넣는 것입니다."
      ],
      "metadata": {
        "id": "19b3I9VE3PBO"
      }
    },
    {
      "cell_type": "code",
      "source": [
        "x = {1, 2, 3}\n",
        "y = {'apple', 'banana', 'cherry'}"
      ],
      "metadata": {
        "id": "gUwytonv3AVW"
      },
      "execution_count": null,
      "outputs": []
    },
    {
      "cell_type": "code",
      "source": [
        "z = set([1, 2, 3, 3, 3]) # set() 함수를 이용하여 다른자료형을 집합으로 변환 할수도 있다.\n",
        "print(z)  # 출력: {1, 2, 3}"
      ],
      "metadata": {
        "colab": {
          "base_uri": "https://localhost:8080/"
        },
        "id": "0o5PWsI73cxz",
        "outputId": "cc26f694-7579-41cd-ef5f-1dc30ca30cad"
      },
      "execution_count": null,
      "outputs": [
        {
          "output_type": "stream",
          "name": "stdout",
          "text": [
            "{1, 2, 3}\n"
          ]
        }
      ]
    },
    {
      "cell_type": "markdown",
      "source": [
        "## 4.2 집합의 특징\n",
        "### 4.2.1 집합은 중복을 허용하지않는다\n",
        "- 집합의 가장 큰 특징은 중복된 값을 허용하지 않는다는 것입니다. 이는 수학적 집합의 성질과 일치합니다. 만약 중복된 값을 집합에 추가하려고 하면, 그 값은 단 한 번만 저장됩니다.\n",
        "### 4.2.2 집합은 순서가없다\n",
        "- 리스트나 튜플은 원소의 순서가 있어서 인덱싱과 슬라이싱이 가능하지만, 집합은 순서가 없기 때문에 인덱싱으로 값을 얻을 수 없습니다. 그러나 집합에 특정 값이 있는지 확인하는 것은 가능합니다."
      ],
      "metadata": {
        "id": "7juv1_py3xCi"
      }
    },
    {
      "cell_type": "code",
      "source": [],
      "metadata": {
        "id": "prHYyER14ESl"
      },
      "execution_count": null,
      "outputs": []
    },
    {
      "cell_type": "markdown",
      "source": [
        "# 5. 연습문제\n",
        "## 1번 문제\n",
        "- 다음은 python 강좌 학생들의 시험 점수를 딕셔너리로 나타낸 것입니다.\n",
        "- 학생들의 총점을 구하는 코드를 작성하세요.\n",
        "-학생들의 평균 점수를 구하는 코드를 작성하세요.\n",
        "- 호준: 98 점수가 추가되었습니다. 이 점수를 반영하여 학생들의 평균 점수를 구해주세요.\n",
        "- 문제가 하나 잘못 출제되어 모두 2점이 올랐습니다. 학생들의 모든 점수를 2점씩 올려주세요.\n",
        "- 점수가 가장 높은 학생의 이름과 그 점수를 구하는 코드를 작성하세요.\n",
        "- 점수가 가장 낮은 학생의 이름과 그 점수를 구하는 코드를 작성하세요."
      ],
      "metadata": {
        "id": "QyVhP2pb4tr0"
      }
    },
    {
      "cell_type": "code",
      "source": [
        "# 학생들의 총점을 구하는 코드를 작성하세요\n",
        "student_score = {\n",
        "\t\t'홍의': 97,\n",
        "\t\t'원희': 60,\n",
        "\t\t'동해': 77,\n",
        "\t\t'변수': 79,\n",
        "\t\t'창현': 89,\n",
        "}\n",
        "score_all = student_score.values() # 학생들의 총점수를 구하는 코드\n",
        "\n",
        "total_score = sum(score_all) #sum 함수를 이용\n",
        "\n",
        "print(total_score)"
      ],
      "metadata": {
        "colab": {
          "base_uri": "https://localhost:8080/"
        },
        "id": "jlFrDw1-40qy",
        "outputId": "caf62d56-ba89-4df4-e71a-0b0f37f0ab41"
      },
      "execution_count": null,
      "outputs": [
        {
          "output_type": "stream",
          "name": "stdout",
          "text": [
            "402\n"
          ]
        }
      ]
    },
    {
      "cell_type": "code",
      "source": [
        "# 학생들의 평균 점수를 구하는 코드를 작성\n",
        "\n",
        "avg_score = sum(score_all) / 5\n",
        "print(avg_score)"
      ],
      "metadata": {
        "colab": {
          "base_uri": "https://localhost:8080/"
        },
        "id": "baqYjU-r6Taq",
        "outputId": "5e55055e-0933-4542-c47e-c08fe2fcd201"
      },
      "execution_count": null,
      "outputs": [
        {
          "output_type": "stream",
          "name": "stdout",
          "text": [
            "80.4\n"
          ]
        }
      ]
    },
    {
      "cell_type": "code",
      "source": [
        "student_score =['호준']= 98"
      ],
      "metadata": {
        "id": "X07D5xqo6e0i"
      },
      "execution_count": null,
      "outputs": []
    },
    {
      "cell_type": "markdown",
      "source": [
        "# 6 함수\n",
        "- 함수는 모든 프로그래밍의 기본구성요소중 하나입니다. 함수는 특정 작업을 수행하는 코드블록을 하나의 이름아래로 모은것입니다.\n",
        "이를 통해 함수명을 \"호출\"하여 코드블록을 실행할 수있습니다."
      ],
      "metadata": {
        "id": "XBasWAM5RtpB"
      }
    },
    {
      "cell_type": "code",
      "source": [
        "def test():\n",
        "    x = 10\n",
        "    y = 20\n",
        "    print(x, y) # -> print할 수 있는 코드를 만들어서 -> 사용!"
      ],
      "metadata": {
        "id": "_CKpDkisSPGJ"
      },
      "execution_count": null,
      "outputs": []
    },
    {
      "cell_type": "markdown",
      "source": [
        "- 좀 더 구체적으로 말하자면, 중학교 때 수학 시간에 배운 함수 개념을 생각해보세요. 수학에서의 함수 y = x + 1에서, x는 입력이며, y는 출력, 즉 결과값입니다. 프로그래밍의 함수도 이와 유사한 방식으로 작동합니다. 주어진 입력에 대해 특정 출력을 생성합니다.\n",
        "- 함수를 사용하면 복잡한 코드를 단순화시키고, 반복되는 코드를 줄일 수 있습니다. 이로 인해 전체적인 코드가 더 깔끔해지고 관리하기 쉬워집니다. 또한, 이러한 접근법은 코딩 오류를 줄이고 프로그램의 효율성을 향상시킬 수 있습니다."
      ],
      "metadata": {
        "id": "PUL0scawSell"
      }
    },
    {
      "cell_type": "markdown",
      "source": [
        "## 6.1 함수의 정의\n",
        "- 함수를 만들때는 def 키워드를 사용하는 것으로 약속을 합니다. 그리고 함수의 이름을 적고, 괄호를 적고, 콜론(:) 을 붙입니다. 이 키워드를 사용함으로써 파이썬에게 새로운 함수 my_function이 정의 되었다고 알려줍니다."
      ],
      "metadata": {
        "id": "_9PCASxuSpZv"
      }
    },
    {
      "cell_type": "code",
      "source": [
        "def my_function():"
      ],
      "metadata": {
        "id": "Ip1T4iSWTCcd"
      },
      "execution_count": null,
      "outputs": []
    },
    {
      "cell_type": "markdown",
      "source": [
        "## 6.2들여쓰기\n",
        "- 파이썬에서는 들여쓰기가 매우 중요합니다. 들여쓰기는 코드 블록을 정의하는 방법으로 사용되며, 이를 통해 파이썬은 해당 코드 블록이 어디서 시작하고 어디서 끝나는지를 인식합니다.\n",
        "\n",
        "- 함수 내부에서 사용되는 코드는 모두 동일한 수준의 들여쓰기를 가지고 있어야 합니다. 보통은 한 수준의 들여쓰기를 4개의 공백으로 정의합니다. 이렇게 들여쓰기를 통해 함수의 '본문'이라는 구역을 명확히 할 수 있습니다.\n",
        "\n",
        "- 함수는 들여쓰기 된 곳까지만 함수의 범위로 간주합니다. 다음은 들여쓰기의 중요성에 대해서 살펴보는 예제입니다"
      ],
      "metadata": {
        "id": "Yp-v3K_kTDCT"
      }
    },
    {
      "cell_type": "code",
      "source": [
        "#들여쓰기 - 스페이스바 4번 입력 (띄어쓰기)\n",
        "def my_function(): #함수의 정의\n",
        "    print('1') #함수의 본문 시작 (들여쓰기 부분\n",
        "    print('2')\n",
        "    print('3') #함수의 본문\n",
        "my_function() #함수의 호출"
      ],
      "metadata": {
        "colab": {
          "base_uri": "https://localhost:8080/"
        },
        "id": "dpfGiawaTKSJ",
        "outputId": "99306ca1-b1ae-4242-f99b-c339e23fb663"
      },
      "execution_count": null,
      "outputs": [
        {
          "output_type": "stream",
          "name": "stdout",
          "text": [
            "1\n",
            "2\n",
            "3\n",
            "<function my_function at 0x79d64490a200>\n"
          ]
        }
      ]
    },
    {
      "cell_type": "code",
      "source": [
        "def my_function(): # 항수의 정의\n",
        "    print('1') # 함수의 본문 시작\n",
        "    print('2') # 함수의 본문 끝\n",
        "print('3') # 그냥 pirnt('3')\n",
        "my_function() # mt_function에 있는 본문을 가져와라"
      ],
      "metadata": {
        "colab": {
          "base_uri": "https://localhost:8080/"
        },
        "id": "C-qdBYcwT-CA",
        "outputId": "85b560aa-94c9-4df8-9537-cc3af1fc637f"
      },
      "execution_count": null,
      "outputs": [
        {
          "output_type": "stream",
          "name": "stdout",
          "text": [
            "3\n",
            "1\n",
            "2\n"
          ]
        }
      ]
    },
    {
      "cell_type": "markdown",
      "source": [
        "## 6.3 함수를 사용하는 이유\n",
        "- 위 예제는 함수를 선언하지 않고도 충분히 더 쉽고 직관적으로 코드를 구현할 수 있습니다.\n",
        "\n",
        "- 누적되는 코드를 줄이고 재사용하기위해"
      ],
      "metadata": {
        "id": "GShmG3rEUt8m"
      }
    },
    {
      "cell_type": "code",
      "source": [
        "def my_function():\n",
        "    print('1')\n",
        "    print('2')\n",
        "    print('3')\n",
        "my_function()"
      ],
      "metadata": {
        "id": "_zleId1KU1ln"
      },
      "execution_count": null,
      "outputs": []
    },
    {
      "cell_type": "markdown",
      "source": [
        "- 이 코드는 아래와 같이 작성하면 더 직관적으로 코드를 이해할 수 있습니다.\n",
        "\n"
      ],
      "metadata": {
        "id": "b9sSA_jXVshp"
      }
    },
    {
      "cell_type": "code",
      "source": [
        "print('1')\n",
        "print('2')\n",
        "print('3')"
      ],
      "metadata": {
        "id": "a3ELbOlWVunu"
      },
      "execution_count": null,
      "outputs": []
    },
    {
      "cell_type": "markdown",
      "source": [
        "- 다만 만약 이 코드가 100번 반복이 되어야 한다면 아래와 같은 코드가 될 것입니다.\n",
        "\n"
      ],
      "metadata": {
        "id": "O2fI4LKBVvpH"
      }
    },
    {
      "cell_type": "code",
      "source": [
        "print('1')\n",
        "print('2')\n",
        "print('3')\n",
        "print('1')\n",
        "print('2')\n",
        "print('3')\n",
        "...\n",
        "print('1')\n",
        "print('2')\n",
        "print('3')"
      ],
      "metadata": {
        "id": "nXBmkl_oVy-a"
      },
      "execution_count": null,
      "outputs": []
    },
    {
      "cell_type": "markdown",
      "source": [
        "- 함수를 사용하지 않으면 코드의 가독성이 떨어지고 유지 보수를 할 때에도 어디를 어떻게 유지 보수해야 할지 짐작할 수 없게 됩니다.\n",
        "또한 아래와 같은 코드를 확인해보도록 하겠습니다."
      ],
      "metadata": {
        "id": "NQ-Q8Aq9V0kH"
      }
    },
    {
      "cell_type": "code",
      "source": [
        "def 부지매입():\n",
        "    pass\n",
        "\n",
        "def 설계도면작성():\n",
        "    pass\n",
        "\n",
        "def 인력모집():\n",
        "    pass\n",
        "\n",
        "def 벽돌쌓기():\n",
        "    pass\n",
        "\n",
        "def 지붕올리기():\n",
        "    pass\n",
        "\n",
        "부지매입()\n",
        "설계도면작성()\n",
        "인력모집()\n",
        "벽돌쌓기()\n",
        "벽돌쌓기()\n",
        "지붕올리기()"
      ],
      "metadata": {
        "id": "Uk2orONgV1pC"
      },
      "execution_count": null,
      "outputs": []
    },
    {
      "cell_type": "markdown",
      "source": [
        "- 이 코드는 벽돌쌓기 함수가 2번 실행되었습니다. 이처럼 코드의 양이 많더라도 코드를 재사용하는 것은 한 줄이면 되며, 실수를 줄일 수도 있습니다. 또한 코드의 구조를 한 눈에 파악할 수도 있습니다."
      ],
      "metadata": {
        "id": "1MJhpxwIV9vI"
      }
    },
    {
      "cell_type": "markdown",
      "source": [
        "## 6.4 함수 만들어보기\n",
        "### 6.4.1 함수의 기본구조\n",
        "- 함수는 다음과같이 함수의 선언, 이름, 입력, 기능 및 연산, 출력, 호출로 구성됩니다. 아래의 코드를 살펴보세요, 설명을 참고하세요"
      ],
      "metadata": {
        "id": "A_7Hv_cmZpPt"
      }
    },
    {
      "cell_type": "markdown",
      "source": [
        "- 선언: def\n",
        "  함수는 def 키워드를 사용하여 선언됩니다.\n",
        "\n",
        "- 이름: function_name\n",
        "  함수의 이름은 함수를 식별하는 데 사용되며, 일반 변수의 이름을 지정하는 규칙에 따릅니다. 이 이름을 사용하여 함수를 나중에 호출할 수 있습니다.\n",
        "\n",
        "- 입력: x, y 는 function_name에서 사용할 변수, 매개변수(파라미터, parameter)\n",
        "  함수는 파라미터(parameter, 매개변수, 인자)를 통해 외부에서 들어온 아규먼트(argument, 인수)를 입력 받습니다. 이 파라미터는 함수 호출 시에 함께 전달한 10, 9를 각각 x, y로 받아들입니다. 모든 함수가 파라미터를 필요로 하는 것은 아닙니다. 파라미터가 없는 함수도 있으며, 이러한 함수는 괄호 안에 어떤 값도 받지 않습니다. 이 책에서는 매개변수와 인수라는 용어 대신 파라미터와 아규먼트로 원문 그대로 읽도록 하겠습니다.\n",
        "\n",
        "- 기능과 연산: z = x + y는 function의 내부에서 수행되는 연산\n",
        "\n",
        "  함수 본문에서는 다양한 연산과 처리 과정을 수행할 수 있습니다. 이 부분에서 변수에 값을 할당하거나, 데이터 구조를 조작하는 등의 작업을 수행합니다. 함수의 범위는 4칸 들여쓰기 된 곳까지 입니다. 만약 4칸 들여쓰기가 되어있지 않다면 해당 코드는 함수 바깥에 있는 코드입니다. 반드시 한 줄은 명시를 해야 합니다. 아무 코드를 넣지 않은 경우에는 pass 키워드를 넣어 에러가 나지 않게 합니다. 보통 함수의 골격을 잡을 때 pass 키워드를 사용합니다."
      ],
      "metadata": {
        "id": "9G4YcAiDaysM"
      }
    },
    {
      "cell_type": "code",
      "source": [
        "def fuction_name(x, y):\n",
        "    z = x + y\n",
        "    return z\n",
        "\n",
        "print(fuction_name(10,9))\n",
        "print('')"
      ],
      "metadata": {
        "colab": {
          "base_uri": "https://localhost:8080/"
        },
        "id": "uxGgPb7zbAgt",
        "outputId": "2278c879-9653-4e77-fa6b-0f9dbcc0f171"
      },
      "execution_count": null,
      "outputs": [
        {
          "output_type": "stream",
          "name": "stdout",
          "text": [
            "19\n",
            "\n"
          ]
        }
      ]
    },
    {
      "cell_type": "markdown",
      "source": [
        "- 출력(return): return z는 function에서 z의 값을 반환 (print문 값을 출력!)\n",
        "\n",
        "  return 키워드는 함수에서 특정 값을 반환하는 데 사용됩니다. 반환이라는 용어가 생소하실 수 있는데 함수가 호출된 곳에 들어갈 값입니다. 예를 들어 add(2, 3)의 반환 값이 5라면 add(2, 3)이 있던 자리에 5가 들어가는 것입니다. 반환 값을 지정하지 않으면 함수는 자동으로 None을 반환합니다. (함수를 호출하면 return으로 지정된 값을 불러온다.)\n",
        "\n",
        "- 호출: function_name(10, 9)로 함수 호출\n",
        "\n",
        "  함수를 선언한 후에는 그 함수를 호출하여 실행해야 합니다. 함수의 호출은 함수 이름과 소괄호를 사용하여 수행되며, 아규먼트를 함수의 파라미터로 전달합니다. 함수는 호출되지 않으면 실행되지 않습니다. 아래 코드는 함수 내에 0으로 나누는 error가 있지만 호출이 되지 않았기 때문에 error가 나지 않습니다"
      ],
      "metadata": {
        "id": "1O750YDicYeR"
      }
    },
    {
      "cell_type": "markdown",
      "source": [
        "## 6.5 함수 기본 구조\n",
        "### 6.5.1 입력매개변수가 없고, 반환값도 없는함수"
      ],
      "metadata": {
        "id": "6OgqIQxmdCke"
      }
    },
    {
      "cell_type": "code",
      "source": [
        "def simple_function():\n",
        "    print('Hello, World!') # 출력: 'Hello, World!'\n",
        "\n",
        "\n",
        "# 함수 호출\n",
        "print(simple_function()) # 출력: None return이 없기 때문에"
      ],
      "metadata": {
        "id": "U5fj5GrqdPc_"
      },
      "execution_count": null,
      "outputs": []
    },
    {
      "cell_type": "markdown",
      "source": [
        "- 함수의 선언: def 키워드를 사용하여 simple_function이라는 함수를 선언했습니다. 이 함수는 파라미터가 없습니다.\n",
        "함수의 이름: simple_function입니다.\n",
        "함수의 기능과 연산: 함수 내부에서 ‘Hello, World!’라는 문자열을 출력합니다.\n",
        "- 함수의 출력(return): 이 함수는 반환 값이 없습니다. 자동으로 None이 들어갑니다.\n",
        "- 함수의 호출: simple_function()을 통해 함수를 호출하며, 아규먼트는 없습니다. 결과적으로 함수의 반환 값인 None이 들어와 출력됩니다. 여기서 주의해야 할 것은 print는 함수의 반환 값이 아니라는 것입니다. 추가로 colab에서는 마지막 라인 값을 print를 하지 않아도 출력하지만 None 값은 print를 하지 않으면 그 아래 라인에 출력되지 않습니다."
      ],
      "metadata": {
        "id": "xXhvyAoRdoKI"
      }
    },
    {
      "cell_type": "markdown",
      "source": [
        "### 6.5.2 파라미터가 없고, 반환 값은 있는 함수"
      ],
      "metadata": {
        "id": "Qo5DUWVCd7OB"
      }
    },
    {
      "cell_type": "code",
      "source": [
        "def give_me_five():\n",
        "    return 5\n",
        "\n",
        "\n",
        "result = give_me_five()\n",
        "print(result) # 출력: 5"
      ],
      "metadata": {
        "id": "AMumzJxAeM0h"
      },
      "execution_count": null,
      "outputs": []
    },
    {
      "cell_type": "markdown",
      "source": [
        "### 6.5.3 파라미터가 있고, 반환 값은 없는 함수\n",
        "\n"
      ],
      "metadata": {
        "id": "P8YFA1DHeyAM"
      }
    },
    {
      "cell_type": "code",
      "source": [
        "def greeting(name):\n",
        "    print(f'Hello, {name}!')\n",
        "\n",
        "\n",
        "# 함수 호출\n",
        "greeting('Licat')"
      ],
      "metadata": {
        "id": "gEN4JC4Ie57v"
      },
      "execution_count": null,
      "outputs": []
    },
    {
      "cell_type": "markdown",
      "source": [
        "### 6.5.4 입력 매개변수가 있고, 반환 값이 있는 함수"
      ],
      "metadata": {
        "id": "V-Y-_waye6gi"
      }
    },
    {
      "cell_type": "code",
      "source": [
        "def add_numbers(x, y):\n",
        "    sum = x + y\n",
        "    return sum\n",
        "\n",
        "\n",
        "# 함수 호출\n",
        "result = add_numbers(5, 3)\n",
        "print(result)  # 출력: 8"
      ],
      "metadata": {
        "id": "hdWlcbaWfCzi"
      },
      "execution_count": null,
      "outputs": []
    },
    {
      "cell_type": "markdown",
      "source": [
        "### 6.5.5 print와 return의 구분\n",
        "  print와 return을 구별하는 것은 초급자에게 헷갈리는 내용입니다. print는 함수입니다. 아래 예제에서 function(5, 7)을 호출한 값을 출력해 보았더니 None이 출력됩니다. 이는 이 함수의 return 값이 없기 때문입니다."
      ],
      "metadata": {
        "id": "9yJTeASgfWyN"
      }
    },
    {
      "cell_type": "code",
      "source": [
        "def function(x, y):\n",
        "    z = x + y\n",
        "    print(z)\n",
        "print(f'function(5, 7) = {function(5, 7)}')"
      ],
      "metadata": {
        "colab": {
          "base_uri": "https://localhost:8080/"
        },
        "id": "Cpug-J2JfeMS",
        "outputId": "8a0042d8-11d5-4ee3-c9f9-58e41e9ac87a"
      },
      "execution_count": null,
      "outputs": [
        {
          "output_type": "stream",
          "name": "stdout",
          "text": [
            "12\n",
            "function(5, 7) = None\n"
          ]
        }
      ]
    },
    {
      "cell_type": "code",
      "source": [
        "def print_sum(a, b):\n",
        "  return\n",
        "a = 1\n",
        "b = 2\n",
        "print_sum(a, b)\n",
        "print(print_sum)"
      ],
      "metadata": {
        "colab": {
          "base_uri": "https://localhost:8080/"
        },
        "id": "9sBNXwaBh6yX",
        "outputId": "afbdbbb5-528a-45d1-f402-ab2d029a9acf"
      },
      "execution_count": null,
      "outputs": [
        {
          "output_type": "stream",
          "name": "stdout",
          "text": [
            "<function print_sum at 0x79d622b7fd00>\n"
          ]
        }
      ]
    }
  ]
}