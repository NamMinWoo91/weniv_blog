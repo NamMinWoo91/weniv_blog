{
  "cells": [
    {
      "cell_type": "markdown",
      "metadata": {
        "id": "Nt7I37sPETt6"
      },
      "source": [
        "# 직접한 공부\n",
        "- 이호준 강사님의 파이썬 요약강의를 복습하여 개념을 다시잡음\n",
        "- 프로그래머스 문제 푼 내용을 깃헙에 바로 업로드 할 수 있게 준비함\n",
        "- 프로그래머스 문제 세개 를 품\n",
        "- 파이썬 함수에서 프린트와 리턴의 개념을 다시 잡음"
      ]
    }
  ],
  "metadata": {
    "colab": {
      "provenance": []
    },
    "kernelspec": {
      "display_name": "Python 3",
      "name": "python3"
    },
    "language_info": {
      "name": "python"
    }
  },
  "nbformat": 4,
  "nbformat_minor": 0
}
