{
  "nbformat": 4,
  "nbformat_minor": 0,
  "metadata": {
    "colab": {
      "provenance": []
    },
    "kernelspec": {
      "name": "python3",
      "display_name": "Python 3"
    },
    "language_info": {
      "name": "python"
    }
  },
  "cells": [
    {
      "cell_type": "markdown",
      "source": [
        "\n",
        "# 클래스\n",
        "(유튜버 :스타트 코딩 [파이썬 기초 14강] 파이썬 클래스, 객체, 인스턴스, 생성자, 메서드, self 개념 총정리!! 정말 쉽게 설명해 드립니다.발췌)\n",
        "# 1. 클래스 설명\n",
        "## 1.1 클래스\n",
        "- 제품의 설계도\n",
        "## 1.2 객체\n",
        "- 설계도로 만든 제품\n",
        "## 1.3 속성\n",
        "- 클래스안의 변수\n",
        "## 1.4 메서드\n",
        "- 클래스안의 함수\n",
        "## 1.5 생성자\n",
        "- 객체를 만들때 실행되는 함수\n",
        "## 1.6 인스턴스\n",
        "- 메모리에 살아있는 객체\n",
        "\n"
      ],
      "metadata": {
        "id": "BFOY4ciZ8QDl"
      }
    },
    {
      "cell_type": "code",
      "source": [
        "class 클래스이름:\n",
        "    def 메서드이름(self): # 항상 self를 매개변수로 지니고 있어야함 객체 자기자신을 뜻함\n",
        "        명령블록\n",
        "\n",
        "class Monster:\n",
        "    day say(self):\n",
        "        print(\"괴물이다\")\n",
        "\n",
        "\n",
        "객체 = 클래스이름()\n",
        "객체. 메서드()\n",
        "\n",
        "shark = Monster()\n",
        "shark.say()"
      ],
      "metadata": {
        "id": "cCLMBAAw80qJ"
      },
      "execution_count": null,
      "outputs": []
    },
    {
      "cell_type": "code",
      "source": [
        "class Monster:\n",
        "    def __init__(self,name,age): # self = shark, name = 상어 // self = wolf, name = 늑대\n",
        "        self.name = name # self = shark\n",
        "        self.age = age\n",
        "    def say(self):\n",
        "        print(f\"나는{self.name} {self.age} 살임\") # 중간에 age 속성을 손쉽게 추가하였음\n",
        "\n",
        "shark = Monster(\"상어\",7)\n",
        "shark.say()\n",
        "\n",
        "wolf = Monster(\"늑대\",3 )\n",
        "wolf.say()"
      ],
      "metadata": {
        "colab": {
          "base_uri": "https://localhost:8080/"
        },
        "id": "hMXgT4XP9alE",
        "outputId": "b41ad66b-1d80-48ab-8025-884e2cba0605"
      },
      "execution_count": 5,
      "outputs": [
        {
          "output_type": "stream",
          "name": "stdout",
          "text": [
            "나는상어 7 살임\n",
            "나는늑대 3 살임\n"
          ]
        }
      ]
    }
  ]
}