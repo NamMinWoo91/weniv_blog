{
  "nbformat": 4,
  "nbformat_minor": 0,
  "metadata": {
    "colab": {
      "provenance": [],
      "authorship_tag": "ABX9TyOg+RUFZAAS00NmzXHhB4CN",
      "include_colab_link": true
    },
    "kernelspec": {
      "name": "python3",
      "display_name": "Python 3"
    },
    "language_info": {
      "name": "python"
    }
  },
  "cells": [
    {
      "cell_type": "markdown",
      "metadata": {
        "id": "view-in-github",
        "colab_type": "text"
      },
      "source": [
        "<a href=\"https://colab.research.google.com/github/NamMinWoo91/weniv_blog/blob/main/2%EC%9D%BC%EC%B0%A8_%EC%97%B0%EC%8A%B5%EB%AC%B8%EC%A0%9C.ipynb\" target=\"_parent\"><img src=\"https://colab.research.google.com/assets/colab-badge.svg\" alt=\"Open In Colab\"/></a>"
      ]
    },
    {
      "cell_type": "markdown",
      "source": [
        "# 1번 문제\n",
        "\n",
        "다음 변수들이 가리키고 있는 값에 화살표를 그려주세요. z의 값은 무엇인지도 유추해보세요."
      ],
      "metadata": {
        "id": "dQ2wWcrdeTqh"
      }
    },
    {
      "cell_type": "code",
      "source": [
        "# 문제1\n",
        "x = 100\n",
        "y = 100\n",
        "z = x\n",
        "\n",
        "\n",
        "# 내 답안 : x -> 100, y -> 100, z -> x 이므로 z = 100\n",
        "# 답안 : print(id(x), id(y), id(z))\n",
        "# ID에 대해서 Chat GPT에게 물어 봤을때의 답변\n",
        "\n",
        "# id()` 함수는 파이썬 내장 함수로, 객체의 \"고유 식별자\"(unique identifier)를 반환합니다. 이 식별자는 객체의 메모리 주소를 기반으로 하며, 해당 객체가 존재하는 동안에는 고유합니다. 기본적으로 `id()` 함수는 다음과 같이 사용할 수 있습니다:\n",
        "\n",
        "```python\n",
        "x = 10\n",
        "print(id(x))\n",
        "```\n",
        "\n",
        "#위 코드에서 `id(x)`는 정수 `10`이 저장된 메모리 주소를 반환합니다. 몇 가지 중요한 점을 살펴보겠습니다:\n",
        "\n",
        "# 1. **객체의 고유성**: `id()` 함수가 반환하는 값은 그 객체의 고유성을 나타냅니다. 다른 객체와 구분할 수 있는 식별자입니다.\n",
        "# 2. **메모리 주소**: 파이썬 구현체(CPython)에서 `id()` 함수는 객체의 메모리 주소를 반환하지만, 이는 구현체마다 다를 수 있습니다.\n",
        "# 3. **변경 불가 객체**: 숫자, 문자열, 튜플 등 변경 불가(immutable) 객체의 경우, 동일한 값을 가지는 객체는 동일한 `id`를 가질 수 있습니다.\n",
        "# 4. **가비지 컬렉션**: 객체가 더 이상 필요하지 않아 메모리에서 해제되면, 그 `id`는 다른 새 객체에 재사용될 수 있습니다.\n",
        "\n",
        "# 예제 를 통해 좀 더 이해해봅시다:\n",
        "\n",
        "```python\n",
        "a = 42\n",
        "b = 42\n",
        "c = 1000\n",
        "d = 1000\n",
        "\n",
        "print(id(a))  # a와 b는 같은 값을 가지므로 id가 같습니다.\n",
        "print(id(b))\n",
        "\n",
        "print(id(c))  # c와 d는 같은 값을 가지지만 큰 숫자는 다르게 저장될 수 있습니다.\n",
        "print(id(d))\n",
        "```\n",
        "\n",
        "# 이 예제에서 `a`와 `b`는 작은 정수로 같은 값을 가지므로 동일한 `id`를 가집니다. 하지만 `c`와 `d`의 경우 큰 정수( 256 이상의 수 강의 때 배웠음)로, 서로 다른 `id`를 가질 수 있습니다. 파이썬은 메모리 관리를 위해 작은 정수 객체를 재사용하는 최적화를 사용하기 때문입니다.\n",
        "\n",
        "# 이제, 객체의 `id`를 사용하는 방법을 이해했으니, `id()` 함수가 유용할 수 있는 몇 가지 사례를 살펴보겠습니다:\n",
        "\n",
        "# - **객체 비교**: 두 객체가 동일한 객체인지 비교할 때 `is` 연산자와 함께 사용될 수 있습니다. `a is b`는 `id(a) == id(b)`와 같습니다.\n",
        "# - **디버깅**: 디버깅 시 객체가 변경되었는지 추적하기 위해 `id()`를 사용할 수 있습니다.\n",
        "# - **메모리 관리**: 객체의 메모리 주소를 직접 확인하여 메모리 관리 문제를 디버깅할 수 있습니다.\n",
        "\n",
        "# 추가적으로 궁금한 사항이 있으면 알려주세요!\n",
        "\n"
      ],
      "metadata": {
        "id": "Gv-Q-VkPeVxb",
        "colab": {
          "base_uri": "https://localhost:8080/"
        },
        "outputId": "9754ddea-79e9-4b71-8688-38d4fa9ac6e2"
      },
      "execution_count": null,
      "outputs": [
        {
          "output_type": "stream",
          "name": "stdout",
          "text": [
            "133974261960016 133974261960016 133974261960016\n"
          ]
        }
      ]
    },
    {
      "cell_type": "markdown",
      "source": [
        "# 2번 문제\n",
        "\n",
        "다음 파이썬 문법 중 맞은 것을 골라주세요.(3개)"
      ],
      "metadata": {
        "id": "N_hPVRV0enHH"
      }
    },
    {
      "cell_type": "code",
      "source": [
        "#1번\n",
        "print = 100\n",
        "\n",
        "#2번\n",
        "10 = a\n",
        "\n",
        "#3번\n",
        "k = 100\n",
        "\n",
        "#4번\n",
        "100k = 10000\n",
        "\n",
        "#5번\n",
        "a123 = 'abc'\n",
        "\n",
        "#6번\n",
        "_ = 10\n",
        "\n",
        "# 내 답안  : 1번, 3번, 5번, 6번\n",
        "'''\n",
        "파이썬 문법에 맞는 구문을 찾기 위해 각 구문을 살펴보겠습니다:\n",
        "\n",
        "print = 100\n",
        "\n",
        "맞지 않음. print는 파이썬의 내장 함수 이름으로, 이것을 변수로 할당하는 것은 가능하지만 권장되지 않습니다.\n",
        "10 = a\n",
        "\n",
        "맞지 않음. 리터럴(literal) 값을 좌변에 할당할 수 없습니다.\n",
        "k = 100\n",
        "\n",
        "맞음. 변수 k에 숫자 100을 할당하는 올바른 문법입니다.\n",
        "100k = 10000\n",
        "\n",
        "맞지 않음. 변수 이름은 숫자로 시작할 수 없으며, 문자와 숫자의 조합이 잘못되었습니다.\n",
        "a123 = 'abc'\n",
        "\n",
        "맞음. 변수 a123에 문자열 'abc'를 할당하는 올바른 문법입니다.\n",
        "_ = 10\n",
        "\n",
        "맞음. _도 유효한 변수 이름이며, 숫자 10을 할당하는 올바른 문법입니다.\n",
        "따라서, 올바른 파이썬 문법을 따르는 구문은 다음과 같습니다:\n",
        "\n",
        "k = 100\n",
        "a123 = 'abc'\n",
        "_ = 10\n",
        "이를 통해 올바른 파이썬 변수 할당 문법을 이해할 수 있습니다. 추가적으로 변수를 정의할 때 지켜야 할 몇 가지 규칙은 다음과 같습니다:\n",
        "\n",
        "변수 이름은 문자(A-Z, a-z)나 밑줄(_)로 시작해야 합니다.\n",
        "변수 이름의 첫 문자는 숫자(0-9)가 될 수 없습니다.\n",
        "변수 이름은 대소문자를 구분합니다.\n",
        "변수 이름은 예약어(예: print, for, if 등)가 될 수 없습니다.\n",
        "\n",
        "'''\n"
      ],
      "metadata": {
        "id": "Db_KK2CeerxY"
      },
      "execution_count": null,
      "outputs": []
    },
    {
      "cell_type": "markdown",
      "source": [
        "# 3번 문제\n",
        "\n",
        "문자를 사용자에게 입력받고, 그 문자를 2번 출력하는 프로그램을 만들어주세요. 예를 들어 ‘abc’를 입력받는다면 ‘abcabc’를 출력해야 합니다."
      ],
      "metadata": {
        "id": "C0t3BdwXe1rS"
      }
    },
    {
      "cell_type": "code",
      "source": [
        "A = input(\"문자: \")\n",
        "X = A * 2\n",
        "print(f'{X}')\n",
        "\n",
        "'''\n",
        "GPT 문제 해석\n",
        "다음은 사용자가 입력한 문자열을 두 번 출력하는 간단한 파이썬 프로그램입니다:\n",
        "\n",
        "```python\n",
        "# 사용자로부터 입력을 받습니다.\n",
        "input_str = input(\"문자를 입력하세요: \")\n",
        "\n",
        "# 입력받은 문자열을 두 번 출력합니다.\n",
        "output_str = input_str * 2\n",
        "\n",
        "# 결과를 출력합니다.\n",
        "print(output_str)\n",
        "```\n",
        "\n",
        "이 프로그램은 다음과 같은 단계로 동작합니다:\n",
        "1. `input` 함수를 사용하여 사용자가 입력한 문자열을 받습니다.\n",
        "2. 문자열을 두 번 반복하기 위해 `* 2`를 사용합니다.\n",
        "3. `print` 함수를 사용하여 결과를 출력합니다.\n",
        "\n",
        "이 코드를 실행하면 사용자가 입력한 문자열이 두 번 반복되어 출력됩니다. 예를 들어, 사용자가 `abc`를 입력하면 `abcabc`가 출력됩니다.\n",
        "'''\n",
        "\n",
        "'''\n",
        "GPT와 내 답안의 차이 결과는 같았으나 변수명을 정확히 정의 해야함\n",
        "'''"
      ],
      "metadata": {
        "colab": {
          "base_uri": "https://localhost:8080/"
        },
        "id": "1pFoHic6e5Hu",
        "outputId": "52d5f3fd-495e-4666-9643-36df34b0e600"
      },
      "execution_count": null,
      "outputs": [
        {
          "output_type": "stream",
          "name": "stdout",
          "text": [
            "문자: 나\n",
            "나나\n"
          ]
        }
      ]
    },
    {
      "cell_type": "markdown",
      "source": [
        "# 4번 문제\n",
        "\n",
        "아래 변수에서 중복을 제거한 유일한 숫자를 알아내는 코드를 작성해주세요. 형변환을 통해 풀어주세요."
      ],
      "metadata": {
        "id": "Jihyfeh2fkfs"
      }
    },
    {
      "cell_type": "code",
      "source": [
        "n = 1234567890123123123\n",
        "print(slice)\n",
        "\n",
        "# 내 답안 풀지 못하였음 set()에 대한 개념이 부족하였음\n",
        "\n",
        "'''\n",
        "GPT 문제해석\n",
        "\n",
        "네, set만 사용하여 문제를 풀 수 있습니다. 단, set은 요소의 순서를 보장하지 않기 때문에, 순서가 중요한 경우에는 추가적인 정렬이 필요합니다. 하지만 주어진 문제는 순서가 중요하지 않다는 가정 하에, 단순히 중복을 제거한 결과를 출력할 수 있습니다.\n",
        "\n",
        "다음은 set만 사용하여 문제를 푸는 코드입니다:\n",
        "'''\n",
        "python\n",
        "코드 복사\n",
        "n = 1234567890123123123\n",
        "\n",
        "# 숫자를 문자열로 변환하여 각 문자를 set에 추가\n",
        "unique_digits_set = set(str(n))\n",
        "\n",
        "# set의 요소를 문자열로 결합하여 출력 (정렬하지 않고)\n",
        "print(''.join(unique_digits_set))\n",
        "# 이 코드는 숫자에서 중복을 제거한 유일한 숫자들을 출력합니다. 다만, 이 방식은 숫자의 순서를 보장하지 않습니다. 예를 들어, 결과가 0123456789가 아니라 907864213 같은 순서로 나올 수 있습니다.\n",
        "\n",
        "# 만약 순서를 유지하고 싶다면 정렬이 필요합니다. 다음은 set을 사용하고 정렬하는 코드입니다:\n",
        "\n",
        "n = 1234567890123123123\n",
        "\n",
        "# 숫자를 문자열로 변환하여 각 문자를 set에 추가\n",
        "unique_digits_set = set(str(n))\n",
        "\n",
        "# set의 요소를 정렬하여 문자열로 결합\n",
        "unique_digits_sorted = ''.join(sorted(unique_digits_set))\n",
        "\n",
        "# 결과 출력\n",
        "print(unique_digits_sorted)\n",
        "이렇게 하면 순서가 보장된 상태로 중복이 제거된 유일한 숫자들을 출력할 수 있습니다."
      ],
      "metadata": {
        "id": "agCEhTQtflBz",
        "colab": {
          "base_uri": "https://localhost:8080/",
          "height": 129
        },
        "outputId": "6ea9d6af-435c-43b0-802c-a48998079d00"
      },
      "execution_count": 2,
      "outputs": [
        {
          "output_type": "error",
          "ename": "SyntaxError",
          "evalue": "leading zeros in decimal integer literals are not permitted; use an 0o prefix for octal integers (<ipython-input-2-6afbb9d2c5b8>, line 22)",
          "traceback": [
            "\u001b[0;36m  File \u001b[0;32m\"<ipython-input-2-6afbb9d2c5b8>\"\u001b[0;36m, line \u001b[0;32m22\u001b[0m\n\u001b[0;31m    이 코드는 숫자에서 중복을 제거한 유일한 숫자들을 출력합니다. 다만, 이 방식은 숫자의 순서를 보장하지 않습니다. 예를 들어, 결과가 0123456789가 아니라 907864213 같은 순서로 나올 수 있습니다.\u001b[0m\n\u001b[0m                                                                                                                          \n^\u001b[0m\n\u001b[0;31mSyntaxError\u001b[0m\u001b[0;31m:\u001b[0m leading zeros in decimal integer literals are not permitted; use an 0o prefix for octal integers\n"
          ]
        }
      ]
    },
    {
      "cell_type": "markdown",
      "source": [
        "# 5번 문제\n",
        "\n",
        "문자열 s에 마지막에 있는 문자열을 2번 더 붙이는 코드를 작성해주세요."
      ],
      "metadata": {
        "id": "iIvqPl4MhUUw"
      }
    },
    {
      "cell_type": "code",
      "source": [
        "'''\n",
        "s = 'abc'\n",
        "print(s[2:3] * 2)\n",
        "'''\n",
        "# 내 답안 제대로 풀지못하였다.\n",
        "\n",
        "\n",
        "# 주어진 문자열 s의 마지막 문자를 두 번 더 붙이는 코드를 작성해보겠습니다.\n",
        "# 다음은 이를 구현한 코드입니다:\n",
        "\n",
        "# 문자열 s 정의\n",
        "s = \"example\"  # 예시 문자열\n",
        "\n",
        "# 문자열 s의 마지막 문자를 두 번 더 붙임\n",
        "result = s + s[-1] * 2\n",
        "\n",
        "# 결과 출력\n",
        "print(result)\n",
        "\n",
        "# 이 코드는 다음과 같은 단계로 동작합니다:\n",
        "# 문자열 s를 정의합니다.\n",
        "# 문자열 s의 마지막 문자를 두 번 반복하여 s에 추가합니다.\n",
        "# 결과를 출력합니다.\n",
        "# 예를 들어, 문자열 s가 \"example\"이라면 결과는 \"examplee\"가 됩니다."
      ],
      "metadata": {
        "colab": {
          "base_uri": "https://localhost:8080/"
        },
        "id": "HOPITobkhoaD",
        "outputId": "2e37830e-3e6f-4df0-b905-83e321959487"
      },
      "execution_count": 3,
      "outputs": [
        {
          "output_type": "stream",
          "name": "stdout",
          "text": [
            "exampleee\n"
          ]
        }
      ]
    },
    {
      "cell_type": "markdown",
      "source": [
        "# 6번 문제\n",
        "\n",
        "'abcde', 숫자, 대쉬(-), 언더스코어(_)를 모두 제거해주세요. 문자열에 translate를 사용해주세요."
      ],
      "metadata": {
        "id": "Hgeu1G-LjBdK"
      }
    },
    {
      "cell_type": "code",
      "source": [
        "\n",
        "'''\n",
        "내 답안\n",
        "\n",
        "table = str.maketrans('d', '')\n",
        "table = str.maketrans('1234567890', '')\n",
        "table = str.maketrans('-', '')\n",
        "table = str.maketrans('_', '')\n",
        "result = text.translate(table)\n",
        "print(result)\n",
        "'''\n",
        "\n",
        "# GPT 답안\n",
        "# `str.maketrans`와 `str.translate`를 사용하여 여러 문자를 제거하려면 한 번에 모든 문자를 제거할 수 있는 변환 테이블을 만들어야 합니다. 현재 코드는 여러 번 `str.maketrans`를 호출하고 있어서 마지막 호출만 유효합니다. 이를 수정하여 한 번의 `str.maketrans` 호출로 변환 테이블을 만들어야 합니다.\n",
        "\n",
        "# 다음은 수정된 코드입니다:\n",
        "\n",
        "# 제거할 문자들을 정의합니다.\n",
        "chars_to_remove = 'abcde1234567890-_'\n",
        "\n",
        "# 변환 테이블을 만듭니다.\n",
        "table = str.maketrans('', '', chars_to_remove)\n",
        "\n",
        "# 문자열에서 제거합니다.\n",
        "text = 'hello_world123'\n",
        "result = text.translate(table)\n",
        "\n",
        "# 결과를 출력합니다.\n",
        "print(result)\n",
        "\n",
        "\n",
        "# 이 코드의 동작 방식은 다음과 같습니다:\n",
        "# 1. 제거할 모든 문자를 하나의 문자열로 정의합니다.\n",
        "# 2. `str.maketrans`를 사용하여 변환 테이블을 만듭니다. 첫 번째와 두 번째 인수는 빈 문자열을 전달하고, 세 번째 인수로 제거할 문자를 전달합니다.\n",
        "# 3. `str.translate`를 사용하여 문자열에서 변환 테이블에 정의된 문자를 제거합니다.\n",
        "# 4. 결과를 출력합니다.\n",
        "\n",
        "# 이렇게 하면 `\"hello_world123\"`에서 'abcde', 숫자, 대쉬(-), 언더스코어(_)가 모두 제거되어 `\"hlloworl\"`이 출력됩니다.\n",
        "\n"
      ],
      "metadata": {
        "colab": {
          "base_uri": "https://localhost:8080/"
        },
        "id": "86uSXb4tjCBg",
        "outputId": "d3ccf215-9b72-4e13-c020-dd0632245dc7"
      },
      "execution_count": 12,
      "outputs": [
        {
          "output_type": "stream",
          "name": "stdout",
          "text": [
            "hlloworl\n"
          ]
        }
      ]
    },
    {
      "cell_type": "markdown",
      "source": [
        "# 6번문제의 GPT 해석 translate() 의 사용\n",
        "\n",
        "물론입니다! `str.maketrans(x, y, z)`에서 `x`와 `y`는 변환할 문자와 변환 후의 문자를 나타내는 같은 길이의 문자열입니다. 각 `x[i]` 문자는 `y[i]` 문자로 변환됩니다. 세 번째 인수 `z`는 제거할 문자들의 문자열입니다.\n",
        "\n",
        "다음은 각 인수를 어떻게 사용하는지에 대한 예제입니다:\n",
        "\n",
        "### 예제 1: `x`와 `y`를 사용한 문자 변환\n",
        "```python\n",
        "# 변환 테이블 생성\n",
        "x = \"abc\"\n",
        "y = \"123\"\n",
        "table = str.maketrans(x, y)\n",
        "\n",
        "# 문자열 변환\n",
        "text = \"a brown cat\"\n",
        "result = text.translate(table)\n",
        "print(result)  # \"1 1rown c1t\"\n",
        "```\n",
        "여기서:\n",
        "- `'a'`는 `'1'`로 변환됩니다.\n",
        "- `'b'`는 `'2'`로 변환됩니다.\n",
        "- `'c'`는 `'3'`로 변환됩니다.\n",
        "\n",
        "### 예제 2: `z`를 사용한 문자 제거\n",
        "```python\n",
        "# 제거할 문자 정의\n",
        "z = \"abc\"\n",
        "table = str.maketrans('', '', z)\n",
        "\n",
        "# 문자열 변환\n",
        "text = \"a brown cat\"\n",
        "result = text.translate(table)\n",
        "print(result)  # \"  rown t\"\n",
        "```\n",
        "여기서:\n",
        "- `'a'`, `'b'`, `'c'`가 제거됩니다.\n",
        "\n",
        "### 예제 3: `x`, `y`, `z`를 함께 사용\n",
        "```python\n",
        "# 변환 및 제거할 문자 정의\n",
        "x = \"abc\"\n",
        "y = \"123\"\n",
        "z = \"d\"\n",
        "table = str.maketrans(x, y, z)\n",
        "\n",
        "# 문자열 변환\n",
        "text = \"a brown cat and dog\"\n",
        "result = text.translate(table)\n",
        "print(result)  # \"1 2rown 31t 1n 2og\"\n",
        "```\n",
        "여기서:\n",
        "- `'a'`는 `'1'`로 변환됩니다.\n",
        "- `'b'`는 `'2'`로 변환됩니다.\n",
        "- `'c'`는 `'3'`로 변환됩니다.\n",
        "- `'d'`는 제거됩니다.\n",
        "\n",
        "### 요약\n",
        "- `x`와 `y`는 같은 길이의 문자열로, 변환을 지정합니다. 예를 들어, `str.maketrans('abc', '123')`는 `'a'`를 `'1'`로, `'b'`를 `'2'`로, `'c'`를 `'3'`로 변환합니다.\n",
        "- `z`는 제거할 문자들을 지정합니다. 예를 들어, `str.maketrans('', '', 'abc')`는 `'a'`, `'b'`, `'c'`를 제거합니다.\n",
        "\n",
        "이제 원래 문제로 돌아가서, 주어진 문자열에서 특정 문자들을 제거하는 코드는 다음과 같습니다:\n",
        "\n",
        "```python\n",
        "text = 'hello_world123'\n",
        "# 제거할 문자들을 정의합니다.\n",
        "chars_to_remove = 'abcde1234567890-_'\n",
        "# 변환 테이블을 만듭니다.\n",
        "table = str.maketrans('', '', chars_to_remove)\n",
        "# 문자열에서 제거합니다.\n",
        "result = text.translate(table)\n",
        "# 결과를 출력합니다.\n",
        "print(result)  # \"hlloworl\"\n",
        "```"
      ],
      "metadata": {
        "id": "xUSm7kbwCoiM"
      }
    },
    {
      "cell_type": "markdown",
      "source": [
        "# 7번 문제\n",
        "\n",
        "확장자를 출력해주는 코드를 작성해주세요. 확장자는 png, jpeg, mp4 등입니다."
      ],
      "metadata": {
        "id": "OTUz7JurlKCe"
      }
    },
    {
      "cell_type": "code",
      "source": [
        "s = 'licat.jpeg'\n",
        "# 출력값: 'jpeg'\n",
        "s = s.split('.')\n",
        "print(s[-1]) # 내 답안"
      ],
      "metadata": {
        "colab": {
          "base_uri": "https://localhost:8080/"
        },
        "id": "vwgGtITQlSLY",
        "outputId": "bc9269e1-bbec-406a-8a17-917d99aef71f"
      },
      "execution_count": null,
      "outputs": [
        {
          "output_type": "stream",
          "name": "stdout",
          "text": [
            "jpeg\n"
          ]
        }
      ]
    },
    {
      "cell_type": "markdown",
      "source": [
        "# 7번 문제 GPT 해석\n",
        "\n",
        "주어진 문자열에서 파일 확장자를 추출하는 코드는 매우 간단합니다. `split` 메서드를 사용하여 문자열을 마침표(`.`)로 나누고, 마지막 요소를 가져오면 됩니다. 다음은 이 작업을 수행하는 예제입니다:\n",
        "\n",
        "```python\n",
        "# 파일 이름 정의\n",
        "s = 'licat.jpeg'\n",
        "\n",
        "# 문자열을 '.'로 나누고 마지막 요소를 추출\n",
        "extension = s.split('.')[-1]\n",
        "\n",
        "# 확장자를 출력\n",
        "print(extension)\n",
        "```\n",
        "\n",
        "이 코드는 다음과 같은 단계로 동작합니다:\n",
        "1. 문자열 `s`를 마침표(`.`)로 나눕니다.\n",
        "2. 나눈 결과의 마지막 요소를 추출하여 확장자를 얻습니다.\n",
        "3. 확장자를 출력합니다.\n",
        "\n",
        "이를 조금 더 일반화하면, 함수로 만들어 다양한 파일 이름에 대해 확장자를 추출할 수 있습니다:\n",
        "\n",
        "```python\n",
        "def get_extension(filename):\n",
        "    return filename.split('.')[-1]\n",
        "\n",
        "# 파일 이름 정의\n",
        "s = 'licat.jpeg'\n",
        "\n",
        "# 함수 호출 및 결과 출력\n",
        "extension = get_extension(s)\n",
        "print(extension)  # 'jpeg'\n",
        "```\n",
        "\n",
        "이 함수는 파일 이름을 입력받아 확장자를 반환합니다. 예를 들어, 다른 파일 이름에 대해서도 사용할 수 있습니다:\n",
        "\n",
        "```python\n",
        "print(get_extension('video.mp4'))  # 'mp4'\n",
        "print(get_extension('document.pdf'))  # 'pdf'\n",
        "print(get_extension('image.png'))  # 'png'\n",
        "```"
      ],
      "metadata": {
        "id": "4VHnsX80Dj4D"
      }
    },
    {
      "cell_type": "markdown",
      "source": [
        "# 연산자 1번 문제\n",
        "\n",
        "다음 코드의 실행 결괏값을 예상해보세요"
      ],
      "metadata": {
        "id": "o4m2MWJZmwDS"
      }
    },
    {
      "cell_type": "code",
      "source": [
        "#1번\n",
        "a = 100\n",
        "(a > 100) and (a < 200) # False\n",
        "(a > 100) or (a < 200) # True\n",
        "(a >= 100) and (a <= 200) # True\n",
        "(a >= 100) or (a <= 200) # True"
      ],
      "metadata": {
        "colab": {
          "base_uri": "https://localhost:8080/"
        },
        "id": "wjtx7qImm6mp",
        "outputId": "ced1329a-60d5-406d-ea46-d75aaeaa4a7f"
      },
      "execution_count": null,
      "outputs": [
        {
          "output_type": "execute_result",
          "data": {
            "text/plain": [
              "True"
            ]
          },
          "metadata": {},
          "execution_count": 25
        }
      ]
    },
    {
      "cell_type": "markdown",
      "source": [
        "# 2번 문제\n",
        "\n",
        "다음 코드의 실행 결괏값을 예상해보세요"
      ],
      "metadata": {
        "id": "XKfMhFyOnRxm"
      }
    },
    {
      "cell_type": "code",
      "source": [
        "b = 25\n",
        "(b % 2 == 0) and (b % 5 == 0)\n",
        "# 답 : False"
      ],
      "metadata": {
        "colab": {
          "base_uri": "https://localhost:8080/"
        },
        "id": "hGbmTIYynVCj",
        "outputId": "fddd3202-da25-4087-985c-9281d182c9b2"
      },
      "execution_count": null,
      "outputs": [
        {
          "output_type": "execute_result",
          "data": {
            "text/plain": [
              "False"
            ]
          },
          "metadata": {},
          "execution_count": 26
        }
      ]
    },
    {
      "cell_type": "markdown",
      "source": [
        "# 3번 문제\n",
        "\n",
        "변수 c 안에 들어있는 가격을 100원짜리 몇개로 거슬러 줄 수 있는지 출력해주세요"
      ],
      "metadata": {
        "id": "_4YVTMFOniLq"
      }
    },
    {
      "cell_type": "code",
      "source": [
        "c = 1000\n",
        "print(c/100)\n",
        "# 결과값은 10입니다."
      ],
      "metadata": {
        "colab": {
          "base_uri": "https://localhost:8080/"
        },
        "id": "PQM2QVmJnij8",
        "outputId": "dc816931-48fc-4216-ed7c-7e3c7b0f6d27"
      },
      "execution_count": null,
      "outputs": [
        {
          "output_type": "stream",
          "name": "stdout",
          "text": [
            "10.0\n"
          ]
        }
      ]
    },
    {
      "cell_type": "markdown",
      "source": [
        "# 4번 문제\n",
        "\n",
        "(심화문제) 입력한 금액을 5000원, 1000원, 500원, 100원으로 교환하는 프로그램을 만들어주세요."
      ],
      "metadata": {
        "id": "UFCJhCGHwG3N"
      }
    },
    {
      "cell_type": "markdown",
      "source": [
        "#기본 답안\n",
        "\n",
        "money = int(input(\"교환할 금액을 입력하세요: \"))\n",
        "\n",
        "5000원 지폐 개수 계산\n",
        "num_5000 = money // 5000\n",
        "money = money - num_5000 * 5000\n",
        "\n",
        "1000원 지폐 개수 계산\n",
        "num_1000 = money // 1000\n",
        "money = money - num_1000 * 1000\n",
        "\n",
        "500원 동전 개수 계산\n",
        "num_500 = money // 500\n",
        "money = money - num_500 * 500\n",
        "\n",
        "00원 동전 개수 계산\n",
        "num_100 = money // 100\n",
        "\n",
        "결과 출력\n",
        "print(\"5000원 지폐 개수:\", num_5000)\n",
        "print(\"1000원 지폐 개수:\", num_1000)\n",
        "print(\"500원 동전 개수:\", num_500)\n",
        "print(\"100원 동전 개수:\", num_100)"
      ],
      "metadata": {
        "id": "1AQ7RsP2EQSz"
      }
    },
    {
      "cell_type": "markdown",
      "source": [
        "\n",
        "\n",
        "# GPT 답안\n",
        "\n",
        "함수를 사용하지 않고 연산자만을 사용하여 입력한 금액을 5000원, 1000원, 500원, 100원으로 교환하는 코드를 작성할 수 있습니다. 여기서는 `//` 연산자와 `%` 연산자를 활용하여 간단히 구현할 수 있습니다.\n",
        "\n",
        "다음은 그러한 코드 예시입니다:\n",
        "\n",
        "```python\n",
        "# 입력 금액\n",
        "amount = int(input(\"교환할 금액을 입력하세요: \"))\n",
        "\n",
        "# 5000원 지폐 개수 계산\n",
        "count_5000 = amount // 5000\n",
        "amount %= 5000\n",
        "\n",
        "# 1000원 지폐 개수 계산\n",
        "count_1000 = amount // 1000\n",
        "amount %= 1000\n",
        "\n",
        "# 500원 동전 개수 계산\n",
        "count_500 = amount // 500\n",
        "amount %= 500\n",
        "\n",
        "# 100원 동전 개수 계산\n",
        "count_100 = amount // 100\n",
        "\n",
        "# 결과 출력\n",
        "print(f\"5000원 짜리: {count_5000}장\")\n",
        "print(f\"1000원 짜리: {count_1000}장\")\n",
        "print(f\"500원 짜리: {count_500}개\")\n",
        "print(f\"100원 짜리: {count_100}개\")\n",
        "```\n",
        "\n",
        "### 코드 설명:\n",
        "1. `amount // 5000`: 입력 금액에서 5000원을 최대한 많이 사용할 수 있는 개수를 계산합니다.\n",
        "2. `amount %= 5000`: 계산된 5000원 지폐를 사용한 뒤 남은 금액을 업데이트합니다.\n",
        "3. 위와 같은 방식으로 1000원, 500원, 100원의 개수를 계산합니다.\n",
        "4. 계산된 개수를 출력하여 결과를 표시합니다.\n",
        "\n",
        "이 코드는 입력한 금액을 가능한 한 적은 지폐와 동전으로 교환하는 방법을 보여줍니다."
      ],
      "metadata": {
        "id": "-3CbwGQQEa3A"
      }
    }
  ]
}