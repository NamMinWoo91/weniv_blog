{
  "nbformat": 4,
  "nbformat_minor": 0,
  "metadata": {
    "colab": {
      "provenance": []
    },
    "kernelspec": {
      "name": "python3",
      "display_name": "Python 3"
    },
    "language_info": {
      "name": "python"
    }
  },
  "cells": [
    {
      "cell_type": "markdown",
      "source": [
        "# Chat GPT 연습문제\n",
        "\n",
        "\n",
        "- 문제 1: 양수, 음수, 제로 판별 사용자가 입력한 숫자가 양수, 음수 또는 0인지 판별하는 프로그램을 작성하세요.\n"
      ],
      "metadata": {
        "id": "svhOR5RdXlA9"
      }
    },
    {
      "cell_type": "code",
      "source": [
        "number = int(input(\"숫자를 입력하세요: \"))\n",
        "\n",
        "if number > 0:\n",
        "  print(\"양수\")\n",
        "elif number < 0:\n",
        "  print(\"음수\")\n",
        "else:\n",
        "  print(\"0\")\n"
      ],
      "metadata": {
        "id": "fiZWwZ1rXrYH",
        "colab": {
          "base_uri": "https://localhost:8080/"
        },
        "outputId": "b25f286c-a6e3-450d-af26-9b1c95f69a75"
      },
      "execution_count": null,
      "outputs": [
        {
          "output_type": "stream",
          "name": "stdout",
          "text": [
            "숫자를 입력하세요: 0\n",
            "0\n"
          ]
        }
      ]
    },
    {
      "cell_type": "markdown",
      "source": [
        "- 문제 2: 짝수/홀수 판별\n",
        "사용자가 입력한 숫자가 짝수인지 홀수인지 판별하는 프로그램을 작성하세요.\n"
      ],
      "metadata": {
        "id": "5tNjvlv8gF77"
      }
    },
    {
      "cell_type": "code",
      "source": [
        "'''\n",
        "\n",
        "number = int(input(\"숫자를 입력하세요: \"))\n",
        "\n",
        "if number %  == 0: <= 내가 작성했던 코드 오류 뭐로 나누는지 적지를 않음.\n",
        "  print(\"짝수\")\n",
        "else:\n",
        "  print(\"홀수\")\n",
        "'''\n",
        "number = int(input(\"숫자를 입력하세요: \"))\n",
        "\n",
        "if number % 2 == 0:\n",
        "  print(\"짝수\")\n",
        "else:\n",
        "  print(\"홀수\")"
      ],
      "metadata": {
        "colab": {
          "base_uri": "https://localhost:8080/"
        },
        "id": "BPtwz1Z3gIIQ",
        "outputId": "fbd585bc-8536-416b-c728-4ba851091265"
      },
      "execution_count": null,
      "outputs": [
        {
          "output_type": "stream",
          "name": "stdout",
          "text": [
            "숫자를 입력하세요: 4\n",
            "짝수\n"
          ]
        }
      ]
    },
    {
      "cell_type": "markdown",
      "source": [
        "- 문제 3: 특정 범위 내의 숫자 판별\n",
        "사용자가 입력한 숫자가 10 이상 20 이하인지를 판별하는 프로그램을 작성하세요.\n"
      ],
      "metadata": {
        "id": "XnZx2oUGhpX_"
      }
    },
    {
      "cell_type": "code",
      "source": [
        "number = int(input(\"숫자를 입력하세요: \"))\n",
        "\n",
        "if 10 <= number <= 20:\n",
        "  print(\"10 이상 20 이하\")\n",
        "else:\n",
        "  print(\"10 이상 20 이하 아님\")\n"
      ],
      "metadata": {
        "colab": {
          "base_uri": "https://localhost:8080/"
        },
        "id": "4lIYdmLqiMh9",
        "outputId": "f4537b40-01d7-4cb2-9f3b-94b5cc284f73"
      },
      "execution_count": null,
      "outputs": [
        {
          "output_type": "stream",
          "name": "stdout",
          "text": [
            "숫자를 입력하세요: 11\n",
            "10 이상 20 이하\n"
          ]
        }
      ]
    },
    {
      "cell_type": "markdown",
      "source": [
        "- 문제 4: 문자열 길이 판별\n",
        "사용자가 입력한 문자열의 길이가 5 이상인지 판별하는 프로그램을 작성하세요.\n"
      ],
      "metadata": {
        "id": "Xurz3bdUyPNZ"
      }
    },
    {
      "cell_type": "code",
      "source": [
        "string = str(input(\"문자를 입력하세요: \"))\n",
        "string_len =len(string)\n",
        "\n",
        "if string_len >= 5: # 1차적으로 문제를 풀때 부등호의 방향을 신경쓰지못하여 틀렸다 조건 설정을 정확히 하자.\n",
        "  print(\"string\")\n",
        "else :\n",
        "  print(\"5 이상 문장을 입력하세요\")\n"
      ],
      "metadata": {
        "colab": {
          "base_uri": "https://localhost:8080/"
        },
        "id": "lM-WyrkfySFu",
        "outputId": "406d0aea-7350-4467-9e9a-523642562c99"
      },
      "execution_count": null,
      "outputs": [
        {
          "output_type": "stream",
          "name": "stdout",
          "text": [
            "문자를 입력하세요: 하루의 끝을 보고있다.\n",
            "string\n"
          ]
        }
      ]
    },
    {
      "cell_type": "markdown",
      "source": [
        "- 문제 5: 두 수의 크기 비교\n",
        "사용자가 입력한 두 숫자 중 더 큰 숫자를 출력하는 프로그램을 작성하세요. 두 숫자가 같으면 \"두 숫자가 같습니다\"라고 출력하세요.\n"
      ],
      "metadata": {
        "id": "UVBcZ0j00Cvo"
      }
    },
    {
      "cell_type": "code",
      "source": [
        "number1 = int(input(\"첫번째 숫자를  입력하세요: \"))\n",
        "number2 = int(input(\"두번째 숫자를 입력하세요: \"))\n",
        "\n",
        "if number1 > number2 :\n",
        "    print(f'{number1}이 더 큽니다.')\n",
        "elif number2 > number1:\n",
        "    print(f'{number2}이 더 큽니다.')\n",
        "else:\n",
        "  print(\"두 숫자가 같습니다.\")"
      ],
      "metadata": {
        "colab": {
          "base_uri": "https://localhost:8080/"
        },
        "id": "sxPrjv2S0Ew2",
        "outputId": "7f338ea2-ca75-473a-848c-ad0ae142e25a"
      },
      "execution_count": null,
      "outputs": [
        {
          "output_type": "stream",
          "name": "stdout",
          "text": [
            "첫번째 숫자를  입력하세요: 50\n",
            "두번째 숫자를 입력하세요: 50\n",
            "두 숫자가 같습니다.\n"
          ]
        }
      ]
    },
    {
      "cell_type": "markdown",
      "source": [
        "- 문제 6: 학점 판별\n",
        "사용자가 입력한 점수가 90점 이상이면 \"A\", 80점 이상 90점 미만이면 \"B\", 70점 이상 80점 미만이면 \"C\", 60점 이상 70점 미만이면 \"D\", 60점 미만이면 \"F\"를 출력하는 프로그램을 작성하세요.\n"
      ],
      "metadata": {
        "id": "VwK-0cT-1wv8"
      }
    },
    {
      "cell_type": "code",
      "source": [
        "point = int(input(\"점수를 입력하세요: \"))\n",
        "\n",
        "if point >= 90:\n",
        "  print(\"A\")\n",
        "\n",
        "elif 80 <= point < 90:\n",
        "  print(\"B\")\n",
        "\n",
        "elif 70 <= point < 80:\n",
        "  print(\"C\")\n",
        "\n",
        "elif 60 <= point < 70:\n",
        "  print(\"D\")\n",
        "\n",
        "else:\n",
        "  print(\"F\")"
      ],
      "metadata": {
        "colab": {
          "base_uri": "https://localhost:8080/"
        },
        "id": "889NXk6h1x7Q",
        "outputId": "9d9d6c4c-ae80-4bc4-c0d0-7aca167ce40e"
      },
      "execution_count": null,
      "outputs": [
        {
          "output_type": "stream",
          "name": "stdout",
          "text": [
            "점수를 입력하세요: 50\n",
            "F\n"
          ]
        }
      ]
    },
    {
      "cell_type": "markdown",
      "source": [
        "- 문제 7: 숫자 범위 검사\n",
        "사용자가 입력한 숫자가 1부터 100 사이의 숫자인지 확인하는 프로그램을 작성하세요. 숫자가 범위 내에 있으면 \"범위 내에 있습니다\"를, 그렇지 않으면 \"범위 밖에 있습니다\"를 출력하세요.\n"
      ],
      "metadata": {
        "id": "MsV7-7YN2DsH"
      }
    },
    {
      "cell_type": "code",
      "source": [
        "test_number = int(input(\"1부터 100사이의 숫자를 입력하세요 : \"))\n",
        "\n",
        "if 1 <= test_number <= 100:\n",
        "  print(\"범위 내에 있습니다.\")\n",
        "else:\n",
        "  print(\"범위 밖에 있습니다.\")"
      ],
      "metadata": {
        "colab": {
          "base_uri": "https://localhost:8080/"
        },
        "id": "DdbJNyRW2GqG",
        "outputId": "0d579231-680f-46c9-8984-28958d3bd097"
      },
      "execution_count": null,
      "outputs": [
        {
          "output_type": "stream",
          "name": "stdout",
          "text": [
            "1부터 100사이의 숫자를 입력하세요 : 101\n",
            "범위 밖에 있습니다.\n"
          ]
        }
      ]
    },
    {
      "cell_type": "markdown",
      "source": [
        "\n",
        "- 문제 8: 로그인 시스템\n",
        "사용자가 입력한 사용자 이름과 비밀번호가 미리 정의된 사용자 이름과 비밀번호와 일치하는지 확인하는 프로그램을 작성하세요. 일치하면 \"로그인 성공\", 일치하지 않으면 \"로그인 실패\"를 출력하세요.\n"
      ],
      "metadata": {
        "id": "YNbJJd1i2emu"
      }
    },
    {
      "cell_type": "code",
      "source": [
        "login_Id = str(input(\"아이디 : \"))\n",
        "login_password = int(input(\"비밀번호 : \"))\n",
        "\n",
        "ID = \"admin\"\n",
        "PASSWORD = 1234\n",
        "\n",
        "if login_Id == ID and login_password == PASSWORD:\n",
        "  print(\"로그인 성공\")\n",
        "else:\n",
        "  print(\"로그인 실패\")\n",
        "\n",
        "\n",
        "\n",
        "\n"
      ],
      "metadata": {
        "colab": {
          "base_uri": "https://localhost:8080/"
        },
        "id": "Q1pJ9g-U2v-t",
        "outputId": "5fc0aebb-bca1-4166-a7a1-3648fbab9e6e"
      },
      "execution_count": null,
      "outputs": [
        {
          "output_type": "stream",
          "name": "stdout",
          "text": [
            "아이디 : admin\n",
            "비밀번호 : 1234\n",
            "로그인 성공\n"
          ]
        }
      ]
    },
    {
      "cell_type": "markdown",
      "source": [
        "문제 9: 3의 배수 판별\n",
        "사용자가 입력한 숫자가 3의 배수인지 판별하는 프로그램을 작성하세요.\n"
      ],
      "metadata": {
        "id": "cfLNvfqi3nhW"
      }
    },
    {
      "cell_type": "code",
      "source": [
        "test_number = int(input(\"숫자를 입력하세요: \"))\n",
        "\n",
        "if test_number % 3 == 0:\n",
        "  print(\"3의 배수\")\n",
        "else:\n",
        "  print(\"3의 배수 아님\")"
      ],
      "metadata": {
        "colab": {
          "base_uri": "https://localhost:8080/"
        },
        "id": "uXphq4xv3pFO",
        "outputId": "d6c4d400-9df3-4c33-d06a-70765d07daf2"
      },
      "execution_count": null,
      "outputs": [
        {
          "output_type": "stream",
          "name": "stdout",
          "text": [
            "숫자를 입력하세요: 9\n",
            "3의 배수\n"
          ]
        }
      ]
    },
    {
      "cell_type": "markdown",
      "source": [
        "문제 10: 합격 여부 판별\n",
        "사용자가 입력한 점수가 60점 이상이면 \"합격\", 60점 미만이면 \"불합격\"을 출력하는 프로그램을 작성하세요.\n"
      ],
      "metadata": {
        "id": "TdXcq7Ju3zPN"
      }
    },
    {
      "cell_type": "code",
      "source": [
        "point = int(input(\"점수를 입력하세요: \"))\n",
        "\n",
        "if point >= 60:\n",
        "  print(\"합격\")\n",
        "else:\n",
        "  print(\"불합격\")"
      ],
      "metadata": {
        "colab": {
          "base_uri": "https://localhost:8080/"
        },
        "id": "a30Q0BW23z43",
        "outputId": "13a02c84-551d-406b-bec7-5c4355ac7442"
      },
      "execution_count": null,
      "outputs": [
        {
          "output_type": "stream",
          "name": "stdout",
          "text": [
            "점수를 입력하세요: 90\n",
            "합격\n"
          ]
        }
      ]
    }
  ]
}