{
  "nbformat": 4,
  "nbformat_minor": 0,
  "metadata": {
    "colab": {
      "provenance": []
    },
    "kernelspec": {
      "name": "python3",
      "display_name": "Python 3"
    },
    "language_info": {
      "name": "python"
    }
  },
  "cells": [
    {
      "cell_type": "markdown",
      "source": [
        "# Chat Gpt 함수문제"
      ],
      "metadata": {
        "id": "wQqiAPfFEA95"
      }
    },
    {
      "cell_type": "markdown",
      "source": [
        "##문제 1: 인사말 함수\n",
        "- 주어진 이름을 받아 \"Hello, [이름]!\" 라고 인사하는 함수를 작성하세요."
      ],
      "metadata": {
        "id": "x7i6pkKnEuJq"
      }
    },
    {
      "cell_type": "code",
      "source": [
        "def greet(name):\n",
        "    print(f\"hello, {name}\")\n",
        "\n",
        "\n",
        "greet(\"남민우\") # 문자열 함수라 \"\" 사용해야함"
      ],
      "metadata": {
        "colab": {
          "base_uri": "https://localhost:8080/"
        },
        "id": "-yEYgAi7Ej02",
        "outputId": "f8f9276a-ad27-4748-8ebd-a1f1d98994f5"
      },
      "execution_count": null,
      "outputs": [
        {
          "output_type": "stream",
          "name": "stdout",
          "text": [
            "hello, 남민우\n"
          ]
        }
      ]
    },
    {
      "cell_type": "markdown",
      "source": [
        "## 문제 2: 두 수의 합 함수\n",
        "- 두 개의 숫자를 받아 그 합을 반환하는 함수를 작성하세요"
      ],
      "metadata": {
        "id": "QxNs08HpFsei"
      }
    },
    {
      "cell_type": "code",
      "source": [
        "def add_numbers(a, b):\n",
        "    print(f\"{a+b}\")\n",
        "\n",
        "\n",
        "add_numbers(4,2)"
      ],
      "metadata": {
        "colab": {
          "base_uri": "https://localhost:8080/"
        },
        "id": "tYlOnpWIFsGh",
        "outputId": "90530142-be56-47e8-b268-3f05e695c561"
      },
      "execution_count": null,
      "outputs": [
        {
          "output_type": "stream",
          "name": "stdout",
          "text": [
            "6\n"
          ]
        }
      ]
    },
    {
      "cell_type": "markdown",
      "source": [
        "문제 3: 리스트 합계 함수\n",
        "숫자 리스트를 받아 리스트의 모든 요소의 합을 반환하는 함수를 작성하세요."
      ],
      "metadata": {
        "id": "lCBc60vkGJnh"
      }
    },
    {
      "cell_type": "code",
      "source": [
        "def sum_list(numbers):\n",
        "    print(f\"{sum(numbers)}\")\n",
        "    print(sum(numbers))\n",
        "\n",
        "sum_list([1,2,3])\n",
        "\n"
      ],
      "metadata": {
        "colab": {
          "base_uri": "https://localhost:8080/"
        },
        "id": "eRboWQGYGKDL",
        "outputId": "14c0d8bf-bd90-47d7-d158-0f86c89d746f"
      },
      "execution_count": null,
      "outputs": [
        {
          "output_type": "stream",
          "name": "stdout",
          "text": [
            "6\n",
            "6\n"
          ]
        }
      ]
    },
    {
      "cell_type": "markdown",
      "source": [
        "문제 4 : 문자열 길이함수\n"
      ],
      "metadata": {
        "id": "PDfWh98pHdD-"
      }
    },
    {
      "cell_type": "code",
      "source": [
        "def string_length(s):\n",
        "    print(len(s))\n",
        "\n",
        "\n",
        "    return\n",
        "\n",
        "string_length(\"Game\")"
      ],
      "metadata": {
        "colab": {
          "base_uri": "https://localhost:8080/"
        },
        "id": "rgyUJAU8Hdyg",
        "outputId": "b814b6ad-0795-4217-8cb8-5d1019059ea9"
      },
      "execution_count": null,
      "outputs": [
        {
          "output_type": "stream",
          "name": "stdout",
          "text": [
            "4\n"
          ]
        }
      ]
    },
    {
      "cell_type": "markdown",
      "source": [
        "# 문제 5: 리스트 최대값 함수"
      ],
      "metadata": {
        "id": "_m9rtqOfHuj9"
      }
    },
    {
      "cell_type": "code",
      "source": [
        "def max_in_list(numbers):\n",
        "    print(max(numbers))\n",
        "\n",
        "    return\n",
        "\n",
        "max_in_list([1,2,3])\n"
      ],
      "metadata": {
        "colab": {
          "base_uri": "https://localhost:8080/"
        },
        "id": "xLQP3K-QHt8t",
        "outputId": "1f8e7399-d2b8-4a56-a99f-85db04badc07"
      },
      "execution_count": null,
      "outputs": [
        {
          "output_type": "stream",
          "name": "stdout",
          "text": [
            "3\n"
          ]
        }
      ]
    },
    {
      "cell_type": "markdown",
      "source": [
        "# 초보자를 위한 파이썬  예제문제(함수)\n"
      ],
      "metadata": {
        "id": "xIAkRUJ5I1Tc"
      }
    },
    {
      "cell_type": "code",
      "source": [
        "print(\"A\")\n",
        "def message1() :\n",
        "    print(\"B\")\n",
        "print(\"C\")\n",
        "def message2() :\n",
        "    print(\"D\")\n",
        "message1()\n",
        "print(\"E\")\n",
        "message2()\n",
        "# 내 답안 : 출력 A, C, B , E, D"
      ],
      "metadata": {
        "colab": {
          "base_uri": "https://localhost:8080/"
        },
        "id": "Qrv8JinMI8fN",
        "outputId": "f7b4108f-98d8-4da6-8adf-bb69ef9f2cdf"
      },
      "execution_count": null,
      "outputs": [
        {
          "output_type": "stream",
          "name": "stdout",
          "text": [
            "A\n",
            "C\n",
            "B\n",
            "E\n",
            "D\n"
          ]
        }
      ]
    },
    {
      "cell_type": "code",
      "source": [
        "def message1():\n",
        "    print(\"A\")\n",
        "\n",
        "def message2():\n",
        "    print(\"B\")\n",
        "    message1()\n",
        "\n",
        "message2()\n",
        "\n",
        "# 내 답안 : B, A"
      ],
      "metadata": {
        "colab": {
          "base_uri": "https://localhost:8080/"
        },
        "id": "BJeXJdw3JM1P",
        "outputId": "02c25843-81d5-45ba-f337-2add87a4ad51"
      },
      "execution_count": null,
      "outputs": [
        {
          "output_type": "stream",
          "name": "stdout",
          "text": [
            "B\n",
            "A\n"
          ]
        }
      ]
    },
    {
      "cell_type": "code",
      "source": [
        "def message1():\n",
        "    print(\"A\")\n",
        "\n",
        "def message2():\n",
        "    print(\"B\")\n",
        "\n",
        "def message3():\n",
        "    for i in range (3) : # 3번 반복한다는 뜻?\n",
        "        message2()\n",
        "        print(\"C\")\n",
        "    message1()\n",
        "\n",
        "message3()\n",
        "\n",
        "# 내 답안, BCBCBC,A"
      ],
      "metadata": {
        "colab": {
          "base_uri": "https://localhost:8080/"
        },
        "id": "GkZz8v5QJYOv",
        "outputId": "739fb28d-58e0-47f0-c8be-8cd722024054"
      },
      "execution_count": null,
      "outputs": [
        {
          "output_type": "stream",
          "name": "stdout",
          "text": [
            "B\n",
            "C\n",
            "B\n",
            "C\n",
            "B\n",
            "C\n",
            "A\n"
          ]
        }
      ]
    },
    {
      "cell_type": "code",
      "source": [
        "def 함수(문자열) :\n",
        "    print(문자열)\n",
        "\n",
        "함수(\"안녕\")\n",
        "함수(\"Hi\")\n",
        "# 내답안 : 안녕"
      ],
      "metadata": {
        "colab": {
          "base_uri": "https://localhost:8080/"
        },
        "id": "hW1agS3AJwhC",
        "outputId": "c205b912-6f33-4dc6-9aa7-05dbc6c619c5"
      },
      "execution_count": null,
      "outputs": [
        {
          "output_type": "stream",
          "name": "stdout",
          "text": [
            "안녕\n",
            "Hi\n"
          ]
        }
      ]
    },
    {
      "cell_type": "code",
      "source": [
        "def 함수(a, b) :\n",
        "    print(a + b)\n",
        "\n",
        "함수(3, 4) # 7\n",
        "함수(7, 8) # 15\n"
      ],
      "metadata": {
        "colab": {
          "base_uri": "https://localhost:8080/"
        },
        "id": "SF-wYxKzJ3jx",
        "outputId": "7194a6ba-df6a-401b-c9fc-483e178aca21"
      },
      "execution_count": null,
      "outputs": [
        {
          "output_type": "stream",
          "name": "stdout",
          "text": [
            "7\n",
            "15\n"
          ]
        }
      ]
    },
    {
      "cell_type": "code",
      "source": [
        "def 함수(문자열) :\n",
        "    print(문자열)\n",
        " # 에러가 발생한 이유는 정의한 함수에 파라미터를 입력하지않아서이다."
      ],
      "metadata": {
        "id": "nEHHLboYKDtb"
      },
      "execution_count": null,
      "outputs": []
    },
    {
      "cell_type": "code",
      "source": [
        "# 하나의 문자를 입력받아 문자열 끝에 \":D\" 스마일 문자열을 이어 붙여 출력하는print_with_smile 함수를 정의하라.\n",
        "\n",
        "\n",
        "def print_with_smile(text): # 파라미터를 제대로 설정 해야함\n",
        "  print(text +\":D\")\n",
        "  return\n",
        "\n",
        "\n",
        "print_with_smile(\"엄마\")"
      ],
      "metadata": {
        "colab": {
          "base_uri": "https://localhost:8080/"
        },
        "id": "ovAB0TmYKbWn",
        "outputId": "a60beedb-5fd0-471b-b3df-7675b1faf6f1"
      },
      "execution_count": null,
      "outputs": [
        {
          "output_type": "stream",
          "name": "stdout",
          "text": [
            "엄마:D\n"
          ]
        }
      ]
    },
    {
      "cell_type": "code",
      "source": [
        "def print_max(a, b, c) :\n",
        "    max_val = 0\n",
        "    if a > max_val :\n",
        "        max_val = a\n",
        "    if b > max_val :\n",
        "        max_val = b\n",
        "    if c > max_val :\n",
        "        max_val = c\n",
        "    print(max_val)\n",
        "\n",
        "print_max(3,1,2)"
      ],
      "metadata": {
        "colab": {
          "base_uri": "https://localhost:8080/"
        },
        "id": "cKdy_9VaLuIR",
        "outputId": "49fcae12-4495-43d8-a0ca-f202b8a11da6"
      },
      "execution_count": null,
      "outputs": [
        {
          "output_type": "stream",
          "name": "stdout",
          "text": [
            "3\n"
          ]
        }
      ]
    },
    {
      "cell_type": "markdown",
      "source": [
        "\n",
        "\n"
      ],
      "metadata": {
        "id": "mvwyWUj_M3OZ"
      }
    },
    {
      "cell_type": "code",
      "source": [
        "def print_reverse(text):\n",
        "  print(text[::-1]) # 인덱스 기능을 이용함\n",
        "\n",
        "print_reverse(\"python\")\n"
      ],
      "metadata": {
        "colab": {
          "base_uri": "https://localhost:8080/"
        },
        "id": "TEJbAaZ8M4Kw",
        "outputId": "7cca4895-4adb-4e33-84dd-1e6e6517871e"
      },
      "execution_count": null,
      "outputs": [
        {
          "output_type": "stream",
          "name": "stdout",
          "text": [
            "nohtyp\n"
          ]
        }
      ]
    },
    {
      "cell_type": "code",
      "source": [
        "def print_score(score):\n",
        "  score = sum(score) / len(score)\n",
        "  print(score)\n",
        "  return\n",
        "print_score ([1, 2, 3])\n"
      ],
      "metadata": {
        "colab": {
          "base_uri": "https://localhost:8080/"
        },
        "id": "89MiDxGIN9xa",
        "outputId": "b18709e2-26fd-4a0a-cd49-adcd186d6c14"
      },
      "execution_count": null,
      "outputs": [
        {
          "output_type": "stream",
          "name": "stdout",
          "text": [
            "2.0\n"
          ]
        }
      ]
    },
    {
      "cell_type": "code",
      "source": [
        "# 하나의 딕셔너리를 입력받아 딕셔너리의 key 값을 화면에 출력하는 print_keys 함수를 정의하라.\n",
        "\n",
        "# 내가 짠 코드\n",
        "def print_keys(dict):\n",
        "  dict2 = dict.keys()\n",
        "  print(dict2)\n",
        "  return\n",
        "print_keys ({\"이름\":\"김말똥\", \"나이\":30, \"성별\":0})\n",
        "\n",
        "# 답안 코드\n",
        "def print_keys(dic):\n",
        "    for keys in dic.keys():\n",
        "        print(keys)\n",
        "        return\n",
        "print_keys ({\"이름\":\"김말똥\", \"나이\":30, \"성별\":0})"
      ],
      "metadata": {
        "colab": {
          "base_uri": "https://localhost:8080/"
        },
        "id": "GPSRjrhBQ-Mo",
        "outputId": "abc10200-6f99-47a4-bd7f-0fbb36129c8e"
      },
      "execution_count": null,
      "outputs": [
        {
          "output_type": "stream",
          "name": "stdout",
          "text": [
            "dict_keys(['이름', '나이', '성별'])\n",
            "이름\n",
            "나이\n",
            "성별\n"
          ]
        }
      ]
    },
    {
      "cell_type": "code",
      "source": [
        "my_dict = {\"10/26\" : [100, 130, 100, 100],\n",
        "           \"10/27\" : [10, 12, 10, 11]}\n",
        "# my_dict와 날짜 키값을 입력받아 OHLC 리스트를 출력하는 print_value_by_key 함수를 정의하라.\n",
        "\n",
        "def print_value_by_key(dict, key):\n",
        "    print(dict[key])  # 딕셔러리 형은 키값을 입력시 벨류 (값)으로 프린트됨.\n",
        "    return\n",
        "\n",
        "print_value_by_key  (my_dict, \"10/26\")\n"
      ],
      "metadata": {
        "colab": {
          "base_uri": "https://localhost:8080/"
        },
        "id": "Bo10GpZHSh94",
        "outputId": "bfd99522-f9d3-46d4-aab7-4676c29c59d8"
      },
      "execution_count": null,
      "outputs": [
        {
          "output_type": "stream",
          "name": "stdout",
          "text": [
            "[10, 12, 10, 11]\n"
          ]
        }
      ]
    },
    {
      "cell_type": "code",
      "source": [
        "# 입력 문자열을 한 줄에 다섯글자씩 출력하는 print_5xn(string) 함수를 작성하라.\n",
        "\n",
        "def print_5xn(string):\n",
        "  adr = string[:5]\n",
        "  for i in range(len(adr)) :\n",
        "    print(adr[i] + \" \")\n",
        "  return\n",
        "\n",
        "print_5xn(\"아이엠어보이유알어걸\")\n"
      ],
      "metadata": {
        "colab": {
          "base_uri": "https://localhost:8080/"
        },
        "id": "3nA05jTBTN5q",
        "outputId": "5b7ef1cb-17af-483d-ea0d-1562168b5407"
      },
      "execution_count": null,
      "outputs": [
        {
          "output_type": "stream",
          "name": "stdout",
          "text": [
            "아 \n",
            "이 \n",
            "엠 \n",
            "어 \n",
            "보 \n"
          ]
        }
      ]
    },
    {
      "cell_type": "markdown",
      "source": [
        "## all() 함수\n",
        " 주어진 iterable의 모든 요소가 참(truthy)인지 확인합니다. 만약 모든 요소가 참이면 True를 반환하고, 그렇지 않으면 False를 반환합니다.\n",
        "\n",
        "## any() 함수\n",
        " 주어진 iterable의 요소 중 하나라도 참인 것이 있는지 확인합니다. 만약 하나라도 참이면 True를 반환하고, 모든 요소가 거짓이면 False를 반환합니다."
      ],
      "metadata": {
        "id": "Uj-gvjCMZYw1"
      }
    },
    {
      "cell_type": "code",
      "source": [
        "# all 함수 예제\n",
        "numbers = [1, 2, 3, 4, 5]\n",
        "all_positive = all(n > 0 for n in numbers)\n",
        "print(all_positive)  # True\n",
        "\n",
        "numbers = [1, -2, 3, 4, 5]\n",
        "all_positive = all(n > 0 for n in numbers)\n",
        "print(all_positive)  # False\n",
        "\n"
      ],
      "metadata": {
        "id": "kJp3mMKKZrnX"
      },
      "execution_count": null,
      "outputs": []
    },
    {
      "cell_type": "code",
      "source": [],
      "metadata": {
        "id": "OOc8xr5CatzB"
      },
      "execution_count": null,
      "outputs": []
    },
    {
      "cell_type": "code",
      "source": [
        "# all 함수 문제\n",
        "def are_all_positive(numbers):\n",
        "    return all(map(lambda x: x > 0, numbers)) # map 함수를 사용하여 각 요소가 0보다 큰지 확인하는 람다 함수를 적용\n",
        "\n",
        "# 예제 테스트\n",
        "print(are_all_positive([1, 2, 3, 4, 5]))  # True\n",
        "print(are_all_positive([1, -2, 3, 4, 5]))  # False"
      ],
      "metadata": {
        "colab": {
          "base_uri": "https://localhost:8080/"
        },
        "id": "zQ04k5C7aR8w",
        "outputId": "e5f7291f-3d3a-424d-ae7b-05ff1477d0c6"
      },
      "execution_count": 5,
      "outputs": [
        {
          "output_type": "stream",
          "name": "stdout",
          "text": [
            "True\n",
            "False\n"
          ]
        }
      ]
    },
    {
      "cell_type": "code",
      "source": [
        "# any 함수 예제\n",
        "numbers = [1, 3, 5, 7, 8]\n",
        "has_even = any(n % 2 == 0 for n in numbers)\n",
        "print(has_even)  # True\n",
        "\n",
        "numbers = [1, 3, 5, 7]\n",
        "has_even = any(n % 2 == 0 for n in numbers)\n",
        "print(has_even)  # False\n",
        "\n",
        "# any 함수 문제\n",
        "def has_long_word(words):\n",
        "    return any(map(lambda word: len(word) >= 5, words))\n",
        "\n",
        "# 예제 테스트\n",
        "print(has_long_word([\"apple\", \"dog\", \"cat\"]))  # True\n",
        "print(has_long_word([\"dog\", \"cat\", \"sun\"]))  # False\n",
        "\n"
      ],
      "metadata": {
        "id": "BZCKzv5iZ2Pp"
      },
      "execution_count": null,
      "outputs": []
    },
    {
      "cell_type": "markdown",
      "source": [
        "## chr()\n",
        " - 정수를 인수로 받아 그에 해당하는 유니코드 문자를 반환합니다."
      ],
      "metadata": {
        "id": "qugXP4jtcWl-"
      }
    },
    {
      "cell_type": "code",
      "source": [
        "# 10진수로 유니코드표에서 찾아 대응되는 값을 줍니다.\n",
        "chr(65) # 출력: 'A'\n",
        "chr(97) # 출력: 'a'\n",
        "chr(54616) # 출력: '하'"
      ],
      "metadata": {
        "colab": {
          "base_uri": "https://localhost:8080/",
          "height": 36
        },
        "id": "Yhy9FRvncgO-",
        "outputId": "e5e5de19-a30c-467e-fd23-8ac45ab449d6"
      },
      "execution_count": 6,
      "outputs": [
        {
          "output_type": "execute_result",
          "data": {
            "text/plain": [
              "'하'"
            ],
            "application/vnd.google.colaboratory.intrinsic+json": {
              "type": "string"
            }
          },
          "metadata": {},
          "execution_count": 6
        }
      ]
    },
    {
      "cell_type": "markdown",
      "source": [
        "## ord()\n",
        "- 단일 문자를 인수로 받아 그 문자의 유니코드(또는 ASCII 코드) 값을 반환합니다"
      ],
      "metadata": {
        "id": "LEJTXZvvdRSr"
      }
    },
    {
      "cell_type": "code",
      "source": [
        "# 문자를 입력하면 유니코드에서 숫자로 출력합니다.\n",
        "ord('a') # 출력: 97\n",
        "ord('하') # 출력: 54616"
      ],
      "metadata": {
        "id": "Hh6dRcZTdb7A"
      },
      "execution_count": null,
      "outputs": []
    },
    {
      "cell_type": "markdown",
      "source": [
        "## map()\n",
        "- 함수는 기존의 리스트(또는 튜플)의 모든 요소에 특정 함수를 적용한 결과를 map 객체 형태로 반환하는 함수입니다. map 객체는 다시 list()를 이용해 리스트 형태로 변환할 수 있습니다."
      ],
      "metadata": {
        "id": "03qRjY1PeUeF"
      }
    },
    {
      "cell_type": "markdown",
      "source": [],
      "metadata": {
        "id": "qU99lKHVefFG"
      }
    },
    {
      "cell_type": "code",
      "source": [
        "map(함수, 리스트 혹은 튜플)"
      ],
      "metadata": {
        "id": "BO7kEaZGef9V"
      },
      "execution_count": null,
      "outputs": []
    },
    {
      "cell_type": "code",
      "source": [
        "# map 함수 기본문제\n",
        "\n",
        "numbers = [1, 2, 3, 4, 5] # 리스트를 정의\n",
        "result = list(map(lambda x: x**2, numbers)) # x 는 리스트의 요소\n",
        "print(result)  # [1, 4, 9, 16, 25]\n"
      ],
      "metadata": {
        "colab": {
          "base_uri": "https://localhost:8080/"
        },
        "id": "_NIBwDCres9T",
        "outputId": "5482a496-39c4-4f75-b6e0-6b37e49a8a25"
      },
      "execution_count": 7,
      "outputs": [
        {
          "output_type": "stream",
          "name": "stdout",
          "text": [
            "[1, 4, 9, 16, 25]\n"
          ]
        }
      ]
    },
    {
      "cell_type": "markdown",
      "source": [
        "## filter()\n",
        "- filter() 함수는 순회할 수 있는 객체의 요소 중 특정 조건을 만족하는 요소만을 선택하여 반환합니다. 반환 값은 filter 객체 형태로 제공되며, 이를 다시 list()를 이용해 리스트 형태로 변환할 수 있습니다."
      ],
      "metadata": {
        "id": "wphlh1NkfW19"
      }
    },
    {
      "cell_type": "code",
      "source": [
        "filter(조건 함수, 리스트 또는 튜플)"
      ],
      "metadata": {
        "id": "zWVWiSJBfbZD"
      },
      "execution_count": null,
      "outputs": []
    },
    {
      "cell_type": "markdown",
      "source": [
        "- 조건 함수는 각 요소를 입력으로 받아 True 또는 False 값을 반환합니다. filter() 함수는 True를 반환하는 요소만 선택하여 결과로 반환합니다.해당 예제에서는 0부터 99까지의 숫자 중에서 50보다 큰 숫자만을 선택하여 리스트로 반환하도록 했습니다."
      ],
      "metadata": {
        "id": "vutmUfZtfsSv"
      }
    },
    {
      "cell_type": "code",
      "source": [
        "list(filter(lambda x : x > 50, range(100)))"
      ],
      "metadata": {
        "id": "LcbmKg1vk58r"
      },
      "execution_count": null,
      "outputs": []
    },
    {
      "cell_type": "code",
      "source": [
        "# Chat GPT 예제\n",
        "\n",
        "def is_even(num): # is_even 함수 설정과  num 파라미터 설정\n",
        "    return num % 2 == 0\n",
        "\n",
        "numbers = [1, 2, 3, 4, 5, 6, 7, 8, 9, 10]\n",
        "\n",
        "even_numbers = list(filter(is_even, numbers)) # filter(조건 함수, 리스트 또는 튜플)\n",
        "\n",
        "print(even_numbers)  # 출력: [2, 4, 6, 8, 10]\n"
      ],
      "metadata": {
        "id": "DDzmGuBDo50M"
      },
      "execution_count": null,
      "outputs": []
    },
    {
      "cell_type": "markdown",
      "source": [
        "## zip\n",
        "-  함수는 여러 개의 순회할 수 있는 객체의 요소를 묶어서 반환합니다. 다만 메모리의 효율을 위해 형변환이나 직접 순회를 하기 전까지는 메모리 주소로만 반환합니다"
      ],
      "metadata": {
        "id": "eAzQ_PQek7XA"
      }
    },
    {
      "cell_type": "code",
      "source": [
        "list(zip('ab', '12')) # 출력: [('a', '1'), ('b', '2')]\n"
      ],
      "metadata": {
        "id": "hnn71hLOlFAp"
      },
      "execution_count": null,
      "outputs": []
    },
    {
      "cell_type": "code",
      "source": [
        "names = [\"Alice\", \"Bob\", \"Charlie\"] # 리스트1\n",
        "ages = [24, 30, 28]  # 리스트2\n",
        "scores = [85, 92, 78] # 리스트 3\n",
        "\n",
        "# zip을 이용하여 각 리스트의 같은 인덱스 요소들을 묶기\n",
        "combined = list(zip(names, ages, scores))\n",
        "\n",
        "print(combined)\n"
      ],
      "metadata": {
        "colab": {
          "base_uri": "https://localhost:8080/"
        },
        "id": "TCHGWHtjpZVG",
        "outputId": "c67f8816-b507-46c9-868e-cf4f073cb871"
      },
      "execution_count": 8,
      "outputs": [
        {
          "output_type": "stream",
          "name": "stdout",
          "text": [
            "[('Alice', 24, 85), ('Bob', 30, 92), ('Charlie', 28, 78)]\n"
          ]
        }
      ]
    }
  ]
}